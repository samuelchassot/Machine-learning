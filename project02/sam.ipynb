{
 "cells": [
  {
   "cell_type": "code",
   "execution_count": 2,
   "metadata": {},
   "outputs": [],
   "source": [
    "import numpy as np\n",
    "from sklearn import svm\n",
    "from sklearn.linear_model import SGDClassifier\n",
    "from sklearn.linear_model import LogisticRegression\n",
    "from sklearn.neural_network import MLPClassifier\n",
    "from helpers import *\n",
    "from sklearn.ensemble import RandomForestClassifier\n",
    "from sklearn import neighbors"
   ]
  },
  {
   "cell_type": "markdown",
   "metadata": {},
   "source": [
    "# Contruct the word embeddings using GloVe algorithm"
   ]
  },
  {
   "cell_type": "code",
   "execution_count": null,
   "metadata": {
    "scrolled": true
   },
   "outputs": [],
   "source": [
    "#!/usr/bin/env python3\n",
    "from scipy.sparse import *\n",
    "import numpy as np\n",
    "import pickle\n",
    "import random\n",
    "\n",
    "\n",
    "print(\"loading cooccurrence matrix\")\n",
    "with open('cooc.pkl', 'rb') as f:\n",
    "    cooc = pickle.load(f)\n",
    "print(\"{} nonzero entries\".format(cooc.nnz))\n",
    "\n",
    "nmax = 100\n",
    "print(\"using nmax =\", nmax, \", cooc.max() =\", cooc.max())\n",
    "\n",
    "print(\"initializing embeddings\")\n",
    "embedding_dim = 250\n",
    "xs = np.random.normal(size=(cooc.shape[0], embedding_dim))\n",
    "ys = np.random.normal(size=(cooc.shape[1], embedding_dim))\n",
    "\n",
    "eta = 0.001\n",
    "alpha = 3 / 4\n",
    "\n",
    "epochs = 15\n",
    "\n",
    "for epoch in range(epochs):\n",
    "    print(\"epoch {}\".format(epoch))\n",
    "    for ix, jy, n in zip(cooc.row, cooc.col, cooc.data):\n",
    "        logn = np.log(n)\n",
    "        fn = min(1.0, (n / nmax) ** alpha)\n",
    "        x, y = xs[ix, :], ys[jy, :]\n",
    "        scale = 2 * eta * fn * (logn - np.dot(x, y))\n",
    "        xs[ix, :] += scale * y\n",
    "        ys[jy, :] += scale * x\n",
    "np.save('embeddings_sam', xs)\n",
    "\n"
   ]
  },
  {
   "cell_type": "code",
   "execution_count": 3,
   "metadata": {},
   "outputs": [
    {
     "data": {
      "text/plain": [
       "(21161, 250)"
      ]
     },
     "execution_count": 3,
     "metadata": {},
     "output_type": "execute_result"
    }
   ],
   "source": [
    "word_embeddings = np.load(\"embeddings_sam.npy\")\n",
    "word_embeddings.shape"
   ]
  },
  {
   "cell_type": "markdown",
   "metadata": {},
   "source": [
    "Now we have a representation for each word as a vector of dimension 20.\n",
    "\n",
    "We will load each tweet and construct a representation for this tweet as a mean of the vector of each word contained in the tweet."
   ]
  },
  {
   "cell_type": "code",
   "execution_count": 9,
   "metadata": {},
   "outputs": [],
   "source": [
    "words_list = []\n",
    "f = open(\"vocab_cut.txt\", \"r\")\n",
    "for l in f.readlines():\n",
    "    l = l.strip()\n",
    "    words_list.append(l)\n",
    "words_list = np.array(words_list)\n",
    "f.close()\n",
    "np.save(\"words_list_small_dataset.npy\", words_list)"
   ]
  },
  {
   "cell_type": "code",
   "execution_count": 5,
   "metadata": {},
   "outputs": [
    {
     "data": {
      "text/plain": [
       "12404"
      ]
     },
     "execution_count": 5,
     "metadata": {},
     "output_type": "execute_result"
    }
   ],
   "source": [
    "np.argmax(words_list==\"cucumber\")"
   ]
  },
  {
   "cell_type": "markdown",
   "metadata": {},
   "source": [
    "# Remove common small words"
   ]
  },
  {
   "cell_type": "code",
   "execution_count": null,
   "metadata": {},
   "outputs": [],
   "source": [
    "common_words = [\"a\", \"the\", \"of\", \"he\", \"she\", \"I\", \"we\", \"you\", \"they\", \"to\", \"out\", \"in\",\\\n",
    "                \"oi\", \"it\", \"this\", \"that\", \"these\", \"there\", \"!\", \".\", \"?\", \"...\", \"(\", \")\", \"*\"]"
   ]
  },
  {
   "cell_type": "code",
   "execution_count": 6,
   "metadata": {},
   "outputs": [
    {
     "ename": "KeyboardInterrupt",
     "evalue": "",
     "output_type": "error",
     "traceback": [
      "\u001b[0;31m---------------------------------------------------------------------------\u001b[0m",
      "\u001b[0;31mKeyboardInterrupt\u001b[0m                         Traceback (most recent call last)",
      "\u001b[0;32m<ipython-input-6-8aca465719c9>\u001b[0m in \u001b[0;36m<module>\u001b[0;34m\u001b[0m\n\u001b[1;32m     11\u001b[0m     \u001b[0mn\u001b[0m \u001b[0;34m=\u001b[0m \u001b[0;36m0\u001b[0m\u001b[0;34m\u001b[0m\u001b[0;34m\u001b[0m\u001b[0m\n\u001b[1;32m     12\u001b[0m     \u001b[0;32mfor\u001b[0m \u001b[0mw\u001b[0m \u001b[0;32min\u001b[0m \u001b[0mwords_in_tweet\u001b[0m\u001b[0;34m:\u001b[0m\u001b[0;34m\u001b[0m\u001b[0;34m\u001b[0m\u001b[0m\n\u001b[0;32m---> 13\u001b[0;31m         \u001b[0mvec\u001b[0m \u001b[0;34m=\u001b[0m \u001b[0mword_embeddings\u001b[0m\u001b[0;34m[\u001b[0m\u001b[0mnp\u001b[0m\u001b[0;34m.\u001b[0m\u001b[0margmax\u001b[0m\u001b[0;34m(\u001b[0m\u001b[0mwords_list\u001b[0m\u001b[0;34m==\u001b[0m\u001b[0mw\u001b[0m\u001b[0;34m)\u001b[0m\u001b[0;34m]\u001b[0m\u001b[0;34m\u001b[0m\u001b[0;34m\u001b[0m\u001b[0m\n\u001b[0m\u001b[1;32m     14\u001b[0m         \u001b[0macc\u001b[0m \u001b[0;34m+=\u001b[0m \u001b[0mvec\u001b[0m\u001b[0;34m\u001b[0m\u001b[0;34m\u001b[0m\u001b[0m\n\u001b[1;32m     15\u001b[0m         \u001b[0mn\u001b[0m \u001b[0;34m+=\u001b[0m \u001b[0;36m1\u001b[0m\u001b[0;34m\u001b[0m\u001b[0;34m\u001b[0m\u001b[0m\n",
      "\u001b[0;31mKeyboardInterrupt\u001b[0m: "
     ]
    }
   ],
   "source": [
    "tweets_pos_txt = []\n",
    "f = open(\"Datasets/twitter-datasets/train_pos_clean.txt\")\n",
    "for l in f.readlines():\n",
    "    tweets_pos_txt.append(l.strip())\n",
    "tweets_pos_txt = np.array(tweets_pos_txt)\n",
    "f.close()\n",
    "tweets_pos_vec = []\n",
    "for tw in tweets_pos_txt:\n",
    "    words_in_tweet = tw.split(\" \")\n",
    "    acc = np.zeros(word_embeddings[0].shape[0])\n",
    "    n = 0\n",
    "    for w in words_in_tweet:\n",
    "        vec = word_embeddings[np.argmax(words_list==w)]\n",
    "        acc += vec\n",
    "        n += 1\n",
    "    acc = 1.0*acc/n\n",
    "    tweets_pos_vec.append(acc)\n",
    "tweets_pos_vec = np.array(tweets_pos_vec)"
   ]
  },
  {
   "cell_type": "code",
   "execution_count": 0,
   "metadata": {},
   "outputs": [],
   "source": [
    "tweets_neg_txt = []\n",
    "f = open(\"Datasets/twitter-datasets/train_neg_clean.txt\")\n",
    "for l in f.readlines():\n",
    "    tweets_neg_txt.append(l.strip())\n",
    "tweets_neg_txt = np.array(tweets_neg_txt)\n",
    "f.close()\n",
    "tweets_neg_vec = []\n",
    "for tw in tweets_neg_txt:\n",
    "    words_in_tweet = tw.split(\" \")\n",
    "    acc = np.zeros(word_embeddings[0].shape[0])\n",
    "    n = 0\n",
    "    for w in words_in_tweet:\n",
    "        vec = word_embeddings[np.argmax(words_list==w)]\n",
    "        acc += vec\n",
    "        n += 1\n",
    "    acc = 1.0*acc/n\n",
    "    tweets_neg_vec.append(acc)\n",
    "tweets_neg_vec = np.array(tweets_neg_vec)"
   ]
  },
  {
   "cell_type": "markdown",
   "metadata": {},
   "source": [
    "# Save the vectors to gain time"
   ]
  },
  {
   "cell_type": "code",
   "execution_count": null,
   "metadata": {},
   "outputs": [],
   "source": [
    "np.save('tweets_pos_vec_sam', tweets_pos_vec)\n",
    "np.save('tweets_neg_vec_sam', tweets_neg_vec)"
   ]
  },
  {
   "cell_type": "code",
   "execution_count": 7,
   "metadata": {},
   "outputs": [],
   "source": [
    "tweets_pos_vec = np.load('tweets_pos_vec_sam.npy')\n",
    "tweets_neg_vec = np.load('tweets_neg_vec_sam.npy')"
   ]
  },
  {
   "cell_type": "code",
   "execution_count": 8,
   "metadata": {},
   "outputs": [
    {
     "data": {
      "text/plain": [
       "(100000, 250)"
      ]
     },
     "execution_count": 8,
     "metadata": {},
     "output_type": "execute_result"
    }
   ],
   "source": [
    "tweets_pos_vec.shape"
   ]
  },
  {
   "cell_type": "code",
   "execution_count": null,
   "metadata": {},
   "outputs": [],
   "source": [
    "X = np.concatenate((tweets_pos_vec, tweets_neg_vec))\n",
    "y = np.concatenate((np.ones((tweets_pos_vec.shape[0])), -1*np.ones((tweets_pos_vec.shape[0]))))\n",
    "\n",
    "#X, y = remove_duplicated_tweets(X, y)\n",
    "\n",
    "indices = np.random.permutation(len(y))\n",
    "\n",
    "X = X[indices]\n",
    "y = y[indices]\n",
    "\n"
   ]
  },
  {
   "cell_type": "code",
   "execution_count": null,
   "metadata": {},
   "outputs": [],
   "source": [
    "np.save(\"tweets_X_sam\", X)\n",
    "np.save(\"tweets_y_sam\", y)"
   ]
  },
  {
   "cell_type": "code",
   "execution_count": null,
   "metadata": {},
   "outputs": [],
   "source": []
  },
  {
   "cell_type": "markdown",
   "metadata": {},
   "source": [
    "# Load data from files (generated by code above) EXECUTE FROM THERE TO TEST"
   ]
  },
  {
   "cell_type": "code",
   "execution_count": 4,
   "metadata": {},
   "outputs": [],
   "source": [
    "X = np.load(\"tweets_X.npy\")\n",
    "y = np.load(\"tweets_y.npy\")"
   ]
  },
  {
   "cell_type": "code",
   "execution_count": 5,
   "metadata": {},
   "outputs": [],
   "source": [
    "j = 0.9\n",
    "\n",
    "train_X = X[0:int(j*len(y))]\n",
    "train_y = y[0:int(j*len(y))]\n",
    "test_X = X[int(j*len(y)):]\n",
    "test_y = y[int(j*len(y)):]\n",
    "\n",
    "train_y[train_y == -1.] = 0.\n",
    "test_y[test_y == -1.] = 0."
   ]
  },
  {
   "cell_type": "markdown",
   "metadata": {},
   "source": [
    "# Try with simple SVM"
   ]
  },
  {
   "cell_type": "code",
   "execution_count": 5,
   "metadata": {},
   "outputs": [],
   "source": [
    "def accuracy(y1, y2):\n",
    "    return np.mean(y1==y2)\n",
    "def normalize(X):\n",
    "    means = np.mean(X, axis=0)\n",
    "    std = np.std(X, axis=0)\n",
    "    return means, std, (X-means)/std"
   ]
  },
  {
   "cell_type": "code",
   "execution_count": null,
   "metadata": {},
   "outputs": [],
   "source": [
    "lsvc = svm.LinearSVC(max_iter=10000)\n",
    "lsvc.fit(train_X, train_y)"
   ]
  },
  {
   "cell_type": "code",
   "execution_count": null,
   "metadata": {},
   "outputs": [],
   "source": [
    "accuracy(test_y, lsvc.predict(test_X))"
   ]
  },
  {
   "cell_type": "code",
   "execution_count": null,
   "metadata": {},
   "outputs": [],
   "source": [
    "sgdcl = SGDClassifier()\n",
    "sgdcl.fit(train_X, train_y)"
   ]
  },
  {
   "cell_type": "code",
   "execution_count": null,
   "metadata": {},
   "outputs": [],
   "source": [
    "y_pred = sgdcl.predict(test_X)\n",
    "accuracy(test_y, y_pred)"
   ]
  },
  {
   "cell_type": "code",
   "execution_count": null,
   "metadata": {},
   "outputs": [],
   "source": [
    "lr = LogisticRegression()\n",
    "lr.fit(train_X, train_y)"
   ]
  },
  {
   "cell_type": "code",
   "execution_count": null,
   "metadata": {},
   "outputs": [],
   "source": [
    "y_pred = lr.predict(test_X)\n",
    "accuracy(test_y, y_pred)"
   ]
  },
  {
   "cell_type": "markdown",
   "metadata": {},
   "source": [
    "# Let's try with MLP"
   ]
  },
  {
   "cell_type": "code",
   "execution_count": 6,
   "metadata": {},
   "outputs": [
    {
     "name": "stderr",
     "output_type": "stream",
     "text": [
      "/Users/samuel/anaconda3/lib/python3.7/site-packages/sklearn/neural_network/multilayer_perceptron.py:568: UserWarning: Training interrupted by user.\n",
      "  warnings.warn(\"Training interrupted by user.\")\n"
     ]
    },
    {
     "data": {
      "text/plain": [
       "MLPClassifier(activation='relu', alpha=0.0001, batch_size='auto', beta_1=0.9,\n",
       "              beta_2=0.999, early_stopping=False, epsilon=1e-08,\n",
       "              hidden_layer_sizes=(250, 250), learning_rate='constant',\n",
       "              learning_rate_init=0.001, max_iter=1000, momentum=0.9,\n",
       "              n_iter_no_change=10, nesterovs_momentum=True, power_t=0.5,\n",
       "              random_state=None, shuffle=True, solver='adam', tol=0.0001,\n",
       "              validation_fraction=0.1, verbose=False, warm_start=False)"
      ]
     },
     "execution_count": 6,
     "metadata": {},
     "output_type": "execute_result"
    }
   ],
   "source": [
    "mlp = MLPClassifier(hidden_layer_sizes=(250, 250), max_iter=1000)\n",
    "mlp.fit(train_X, train_y)"
   ]
  },
  {
   "cell_type": "code",
   "execution_count": 0,
   "metadata": {},
   "outputs": [],
   "source": [
    "y_pred = mlp.predict(test_X)\n",
    "accuracy(test_y, y_pred)"
   ]
  },
  {
   "cell_type": "code",
   "execution_count": null,
   "metadata": {},
   "outputs": [],
   "source": [
    "mlp = MLPClassifier(hidden_layer_sizes=(400,200,100), max_iter=1000, activation='relu')\n",
    "mlp.fit(train_X, train_y)"
   ]
  },
  {
   "cell_type": "code",
   "execution_count": null,
   "metadata": {},
   "outputs": [],
   "source": [
    "y_pred = mlp.predict(test_X)\n",
    "accuracy(test_y, y_pred)"
   ]
  },
  {
   "cell_type": "markdown",
   "metadata": {},
   "source": [
    "## Random forest"
   ]
  },
  {
   "cell_type": "code",
   "execution_count": null,
   "metadata": {},
   "outputs": [],
   "source": [
    "clf = RandomForestClassifier(n_estimators=100, max_depth=3, random_state=0)"
   ]
  },
  {
   "cell_type": "code",
   "execution_count": null,
   "metadata": {},
   "outputs": [],
   "source": [
    "clf.fit(train_X, train_y)"
   ]
  },
  {
   "cell_type": "code",
   "execution_count": null,
   "metadata": {},
   "outputs": [],
   "source": [
    "y_pred = clf.predict(test_X)\n",
    "accuracy(test_y, y_pred)"
   ]
  },
  {
   "cell_type": "markdown",
   "metadata": {},
   "source": [
    "## KNN"
   ]
  },
  {
   "cell_type": "code",
   "execution_count": 6,
   "metadata": {},
   "outputs": [],
   "source": [
    "n_neighbors = 15\n",
    "neigh = neighbors.KNeighborsClassifier(n_neighbors, weights='uniform')"
   ]
  },
  {
   "cell_type": "code",
   "execution_count": 7,
   "metadata": {},
   "outputs": [
    {
     "data": {
      "text/plain": [
       "KNeighborsClassifier(algorithm='auto', leaf_size=30, metric='minkowski',\n",
       "                     metric_params=None, n_jobs=None, n_neighbors=15, p=2,\n",
       "                     weights='uniform')"
      ]
     },
     "execution_count": 7,
     "metadata": {},
     "output_type": "execute_result"
    }
   ],
   "source": [
    "neigh.fit(train_X, train_y)"
   ]
  },
  {
   "cell_type": "code",
   "execution_count": 8,
   "metadata": {},
   "outputs": [],
   "source": [
    "y_pred = neigh.predict(test_X)\n",
    "accuracy(test_y, y_pred)"
   ]
  },
  {
   "cell_type": "code",
   "execution_count": null,
   "metadata": {},
   "outputs": [],
   "source": []
  },
  {
   "cell_type": "markdown",
   "metadata": {},
   "source": [
    "# Try with combination"
   ]
  },
  {
   "cell_type": "code",
   "execution_count": null,
   "metadata": {},
   "outputs": [],
   "source": [
    "def combine_output(y1, y2):\n",
    "    \"\"\"\n",
    "    take +1 if at least one of the classifier outputs +1\n",
    "    \"\"\"\n",
    "    y = y1+y2\n",
    "    y[y>0] = 1.\n",
    "    return y"
   ]
  },
  {
   "cell_type": "code",
   "execution_count": null,
   "metadata": {},
   "outputs": [],
   "source": [
    "y_final = combine_output(combine_output(mlp.predict(test_X), lsvc.predict(test_X)), lr.predict(test_X))"
   ]
  },
  {
   "cell_type": "code",
   "execution_count": null,
   "metadata": {},
   "outputs": [],
   "source": [
    "accuracy(y_final, test_y)"
   ]
  },
  {
   "cell_type": "code",
   "execution_count": null,
   "metadata": {},
   "outputs": [],
   "source": []
  }
 ],
 "metadata": {
  "kernelspec": {
   "display_name": "Python 3",
   "language": "python",
   "name": "python3"
  },
  "language_info": {
   "codemirror_mode": {
    "name": "ipython",
    "version": 3
   },
   "file_extension": ".py",
   "mimetype": "text/x-python",
   "name": "python",
   "nbconvert_exporter": "python",
   "pygments_lexer": "ipython3",
   "version": "3.7.3"
  }
 },
 "nbformat": 4,
 "nbformat_minor": 2
}
