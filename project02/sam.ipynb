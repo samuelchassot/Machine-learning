{
 "cells": [
  {
   "cell_type": "code",
   "execution_count": 1,
   "metadata": {},
   "outputs": [],
   "source": [
    "import numpy as np\n",
    "from sklearn import svm"
   ]
  },
  {
   "cell_type": "markdown",
   "metadata": {},
   "source": [
    "# Contruct the word embeddings using GloVe algorithm"
   ]
  },
  {
   "cell_type": "code",
   "execution_count": 2,
   "metadata": {
    "scrolled": true
   },
   "outputs": [
    {
     "name": "stdout",
     "output_type": "stream",
     "text": [
      "loading cooccurrence matrix\n",
      "6496907 nonzero entries\n",
      "using nmax = 100 , cooc.max() = 207302\n",
      "initializing embeddings\n",
      "epoch 0\n",
      "epoch 1\n",
      "epoch 2\n",
      "epoch 3\n",
      "epoch 4\n",
      "epoch 5\n",
      "epoch 6\n",
      "epoch 7\n",
      "epoch 8\n",
      "epoch 9\n"
     ]
    }
   ],
   "source": [
    "#!/usr/bin/env python3\n",
    "from scipy.sparse import *\n",
    "import numpy as np\n",
    "import pickle\n",
    "import random\n",
    "\n",
    "\n",
    "print(\"loading cooccurrence matrix\")\n",
    "with open('cooc.pkl', 'rb') as f:\n",
    "    cooc = pickle.load(f)\n",
    "print(\"{} nonzero entries\".format(cooc.nnz))\n",
    "\n",
    "nmax = 100\n",
    "print(\"using nmax =\", nmax, \", cooc.max() =\", cooc.max())\n",
    "\n",
    "print(\"initializing embeddings\")\n",
    "embedding_dim = 20\n",
    "xs = np.random.normal(size=(cooc.shape[0], embedding_dim))\n",
    "ys = np.random.normal(size=(cooc.shape[1], embedding_dim))\n",
    "\n",
    "eta = 0.001\n",
    "alpha = 3 / 4\n",
    "\n",
    "epochs = 10\n",
    "\n",
    "for epoch in range(epochs):\n",
    "    print(\"epoch {}\".format(epoch))\n",
    "    for ix, jy, n in zip(cooc.row, cooc.col, cooc.data):\n",
    "        logn = np.log(n)\n",
    "        fn = min(1.0, (n / nmax) ** alpha)\n",
    "        x, y = xs[ix, :], ys[jy, :]\n",
    "        scale = 2 * eta * fn * (logn - np.dot(x, y))\n",
    "        xs[ix, :] += scale * y\n",
    "        ys[jy, :] += scale * x\n",
    "np.save('embeddings', xs)\n",
    "\n"
   ]
  },
  {
   "cell_type": "code",
   "execution_count": 3,
   "metadata": {},
   "outputs": [
    {
     "data": {
      "text/plain": [
       "(21161, 20)"
      ]
     },
     "execution_count": 3,
     "metadata": {},
     "output_type": "execute_result"
    }
   ],
   "source": [
    "word_embeddings = np.load(\"embeddings.npy\")\n",
    "word_embeddings.shape"
   ]
  },
  {
   "cell_type": "markdown",
   "metadata": {},
   "source": [
    "Now we have a representation for each word as a vector of dimension 20.\n",
    "\n",
    "We will load each tweet and construct a representation for this tweet as a mean of the vector of each word contained in the tweet."
   ]
  },
  {
   "cell_type": "code",
   "execution_count": 4,
   "metadata": {},
   "outputs": [],
   "source": [
    "words_list = []\n",
    "f = open(\"vocab_cut.txt\", \"r\")\n",
    "for l in f.readlines():\n",
    "    l = l.strip()\n",
    "    words_list.append(l)\n",
    "words_list = np.array(words_list)\n",
    "f.close()"
   ]
  },
  {
   "cell_type": "code",
   "execution_count": 5,
   "metadata": {},
   "outputs": [
    {
     "data": {
      "text/plain": [
       "2133"
      ]
     },
     "execution_count": 5,
     "metadata": {},
     "output_type": "execute_result"
    }
   ],
   "source": [
    "np.argmax(words_list==\"paul\")"
   ]
  },
  {
   "cell_type": "code",
   "execution_count": 7,
   "metadata": {},
   "outputs": [],
   "source": [
    "tweets_pos_txt = []\n",
    "f = open(\"Datasets/twitter-datasets/train_pos.txt\")\n",
    "for l in f.readlines():\n",
    "    tweets_pos_txt.append(l.strip())\n",
    "tweets_pos_txt = np.array(tweets_pos_txt)\n",
    "f.close()\n",
    "tweets_pos_vec = []\n",
    "for tw in tweets_pos_txt:\n",
    "    words_in_tweet = tw.split(\" \")\n",
    "    acc = np.zeros(word_embeddings[0].shape[0])\n",
    "    for w in words_in_tweet:\n",
    "        vec = word_embeddings[np.argmax(words_list==w)]\n",
    "        acc += vec\n",
    "    acc = acc/len(words_in_tweet)\n",
    "    tweets_pos_vec.append(acc)\n",
    "tweets_pos_vec = np.array(tweets_pos_vec)"
   ]
  },
  {
   "cell_type": "code",
   "execution_count": 9,
   "metadata": {},
   "outputs": [],
   "source": [
    "tweets_neg_txt = []\n",
    "f = open(\"Datasets/twitter-datasets/train_neg.txt\")\n",
    "for l in f.readlines():\n",
    "    tweets_neg_txt.append(l.strip())\n",
    "tweets_neg_txt = np.array(tweets_neg_txt)\n",
    "f.close()\n",
    "tweets_neg_vec = []\n",
    "for tw in tweets_neg_txt:\n",
    "    words_in_tweet = tw.split(\" \")\n",
    "    acc = np.zeros(word_embeddings[0].shape[0])\n",
    "    for w in words_in_tweet:\n",
    "        vec = word_embeddings[np.argmax(words_list==w)]\n",
    "        acc += vec\n",
    "    acc = acc/len(words_in_tweet)\n",
    "    tweets_neg_vec.append(acc)\n",
    "tweets_neg_vec = np.array(tweets_neg_vec)"
   ]
  },
  {
   "cell_type": "code",
   "execution_count": 10,
   "metadata": {},
   "outputs": [],
   "source": [
    "train_data = np.concatenate((tweets_pos_vec, tweets_neg_vec))\n",
    "train_y = np.concatenate((np.ones((tweets_pos_vec.shape[0])), -1*np.ones((tweets_pos_vec.shape[0]))))"
   ]
  },
  {
   "cell_type": "markdown",
   "metadata": {},
   "source": [
    "# Try with simple SVM"
   ]
  },
  {
   "cell_type": "code",
   "execution_count": null,
   "metadata": {},
   "outputs": [],
   "source": [
    "train_y[train_y == -1] = 0\n",
    "clf = svm.SVC(gamma='scale')\n",
    "clf.fit(train_data, train_y)"
   ]
  },
  {
   "cell_type": "markdown",
   "metadata": {},
   "source": [
    "Load one tweet for test set to try the model"
   ]
  },
  {
   "cell_type": "code",
   "execution_count": null,
   "metadata": {},
   "outputs": [],
   "source": []
  }
 ],
 "metadata": {
  "kernelspec": {
   "display_name": "Python 3",
   "language": "python",
   "name": "python3"
  },
  "language_info": {
   "codemirror_mode": {
    "name": "ipython",
    "version": 3
   },
   "file_extension": ".py",
   "mimetype": "text/x-python",
   "name": "python",
   "nbconvert_exporter": "python",
   "pygments_lexer": "ipython3",
   "version": "3.7.3"
  }
 },
 "nbformat": 4,
 "nbformat_minor": 2
}
