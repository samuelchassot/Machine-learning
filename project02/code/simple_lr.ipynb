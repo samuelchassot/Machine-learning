{
 "cells": [
  {
   "cell_type": "code",
   "execution_count": 1,
   "metadata": {},
   "outputs": [],
   "source": [
    "def warn(*args, **kwargs):\n",
    "    pass\n",
    "\n",
    "import warnings\n",
    "warnings.warn = warn\n",
    "\n",
    "from sklearn.feature_extraction.text import CountVectorizer as CV\n",
    "from sklearn.linear_model import LogisticRegression as LR\n",
    "from sklearn.model_selection import train_test_split as TrTeS\n",
    "from sklearn.metrics import accuracy_score as AS\n",
    "from nltk.stem.porter import PorterStemmer as PS\n",
    "from nltk.stem import WordNetLemmatizer as WNL\n",
    "\n",
    "import re"
   ]
  },
  {
   "cell_type": "code",
   "execution_count": 2,
   "metadata": {},
   "outputs": [],
   "source": [
    "DATASET_PATH      = \"Datasets/\"\n",
    "DATASET_PATH_MORE = \"twitter-datasets/\"\n",
    "\n",
    "POS_DATASET  = \"train_pos\"\n",
    "NEG_DATASET  = \"train_neg\"\n",
    "\n",
    "FULL_DATASETS_EXT = \"_full\"\n",
    "EXT = \".txt\"\n",
    "\n",
    "TEST_FILE_ORIGINAL = \"test_data.txt\"\n",
    "\n",
    "SUBMISSION_FILE = \"submission.csv\""
   ]
  },
  {
   "cell_type": "code",
   "execution_count": 3,
   "metadata": {},
   "outputs": [],
   "source": [
    "def simple_clean(t):\n",
    "    t = t.replace(\"<user>\", \"\")\n",
    "    t = t.replace(\"<url>\", \"\")\n",
    "    t = t.replace(\"\\n\", \"\")\n",
    "    t = re.compile(\"[.;:!\\'?,\\\"()\\[\\]]\").sub(\"\", t.lower())\n",
    "    \n",
    "    return t\n",
    "    \n",
    "def clean(tweets):\n",
    "    return [simple_clean(t) for t in tweets]\n",
    "\n",
    "def remove_duplicates(tweets):\n",
    "    return clean(list(set(tweets)))\n",
    "\n",
    "def normalize_stemming(tweets):\n",
    "    s = PS()\n",
    "    return [\" \".join([s.stem(w) for w in t.split()]) for t in remove_duplicates(tweets)]\n",
    "\n",
    "def normalize_lemmatization(tweets):\n",
    "    l = WNL()\n",
    "    return [\" \".join([l.lemmatize(w) for w in t.split()]) for t in remove_duplicates(tweets)]\n",
    "\n",
    "def get_stop_words(pos, neg):\n",
    "    stop_words = {}\n",
    "    for t in pos+neg:\n",
    "        for w in t.split():\n",
    "            if w in stop_words:\n",
    "                stop_words[w] += 1\n",
    "            else:\n",
    "                stop_words[w]  = 1\n",
    "                \n",
    "    stop_words = [(k,v) for k,v in stop_words.items()]\n",
    "    stop_words.sort(key=lambda t : t[1], reverse=True)\n",
    "    \n",
    "    return [t[0] for t in stop_words][:10]\n",
    "\n",
    "def read_tweets_file(pos=True, full=True):\n",
    "    path = DATASET_PATH+DATASET_PATH_MORE\n",
    "    \n",
    "    if pos:\n",
    "        path += POS_DATASET\n",
    "    else:\n",
    "        path += NEG_DATASET\n",
    "    \n",
    "    if full:\n",
    "        path += FULL_DATASETS_EXT\n",
    "    \n",
    "    path += EXT\n",
    "    \n",
    "    tweets = []\n",
    "    with open(path, 'r') as file:\n",
    "        for line in file:\n",
    "            tweets.append(line)\n",
    "    \n",
    "    return tweets\n",
    "\n",
    "def get_tweets(full=True):\n",
    "    return read_tweets_file(True,full), read_tweets_file(False,full)\n",
    "\n",
    "def get_submission_tweets():\n",
    "    tweets = []\n",
    "    with open(DATASET_PATH+TEST_FILE_ORIGINAL, 'r') as file:\n",
    "        for line in file:\n",
    "            tweets.append(\",\".join(line.split(\",\")[1:]))\n",
    "    \n",
    "    return tweets"
   ]
  },
  {
   "cell_type": "markdown",
   "metadata": {},
   "source": [
    "# dirty data"
   ]
  },
  {
   "cell_type": "code",
   "execution_count": 4,
   "metadata": {},
   "outputs": [],
   "source": [
    "pos, neg = get_tweets()\n",
    "tr       = pos+neg"
   ]
  },
  {
   "cell_type": "code",
   "execution_count": 5,
   "metadata": {},
   "outputs": [],
   "source": [
    "cv3 = CV(binary=True)\n",
    "cv3.fit(tr)\n",
    "\n",
    "tra = cv3.transform(tr)\n",
    "\n",
    "labels = [1 if i < len(pos) else -1 for i in range(len(pos)+len(neg))]\n",
    "\n",
    "tr_x, te_x, tr_labels, te_labels = TrTeS(tra, labels, train_size=0.75)"
   ]
  },
  {
   "cell_type": "code",
   "execution_count": 6,
   "metadata": {},
   "outputs": [
    {
     "name": "stdout",
     "output_type": "stream",
     "text": [
      "Accuracy for 0.01: 0.7960112\n",
      "Accuracy for 0.05: 0.7993824\n",
      "Accuracy for 0.25: 0.8000896\n",
      "Accuracy for 0.5: 0.8002784\n",
      "Accuracy for 1: 0.7989648\n"
     ]
    }
   ],
   "source": [
    "for c in [0.01, 0.05, 0.25, 0.5, 1]:\n",
    "    lr = LR(C=c, max_iter=30)\n",
    "    lr.fit(tr_x, tr_labels)\n",
    "    print (\"Accuracy for {}: {}\".format(c, AS(te_labels, lr.predict(te_x))))"
   ]
  },
  {
   "cell_type": "markdown",
   "metadata": {},
   "source": [
    "# clean data"
   ]
  },
  {
   "cell_type": "code",
   "execution_count": 7,
   "metadata": {},
   "outputs": [],
   "source": [
    "pos, neg = get_tweets()\n",
    "pos, neg = clean(pos), clean(neg)\n",
    "tr       = pos+neg"
   ]
  },
  {
   "cell_type": "code",
   "execution_count": 8,
   "metadata": {},
   "outputs": [],
   "source": [
    "cv3 = CV(binary=True)\n",
    "cv3.fit(tr)\n",
    "\n",
    "tra = cv3.transform(tr)\n",
    "\n",
    "labels = [1 if i < len(pos) else -1 for i in range(len(pos)+len(neg))]\n",
    "\n",
    "tr_x, te_x, tr_labels, te_labels = TrTeS(tra, labels, train_size=0.75)"
   ]
  },
  {
   "cell_type": "code",
   "execution_count": 9,
   "metadata": {},
   "outputs": [
    {
     "name": "stdout",
     "output_type": "stream",
     "text": [
      "Accuracy for 0.01: 0.8032704\n",
      "Accuracy for 0.05: 0.8045456\n",
      "Accuracy for 0.25: 0.8044304\n",
      "Accuracy for 0.5: 0.8034944\n",
      "Accuracy for 1: 0.8040016\n"
     ]
    }
   ],
   "source": [
    "for c in [0.01, 0.05, 0.25, 0.5, 1]:\n",
    "    lr = LR(C=c, max_iter=30)\n",
    "    lr.fit(tr_x, tr_labels)\n",
    "    print (\"Accuracy for {}: {}\".format(c, AS(te_labels, lr.predict(te_x))))"
   ]
  },
  {
   "cell_type": "markdown",
   "metadata": {},
   "source": [
    "# no duplicates"
   ]
  },
  {
   "cell_type": "code",
   "execution_count": 10,
   "metadata": {},
   "outputs": [],
   "source": [
    "pos, neg = get_tweets()\n",
    "pos, neg = remove_duplicates(pos), remove_duplicates(neg)\n",
    "tr       = pos+neg"
   ]
  },
  {
   "cell_type": "code",
   "execution_count": 11,
   "metadata": {},
   "outputs": [],
   "source": [
    "cv3 = CV(binary=True)\n",
    "cv3.fit(tr)\n",
    "\n",
    "tra = cv3.transform(tr)\n",
    "\n",
    "labels = [1 if i < len(pos) else -1 for i in range(len(pos)+len(neg))]\n",
    "\n",
    "tr_x, te_x, tr_labels, te_labels = TrTeS(tra, labels, train_size=0.75)"
   ]
  },
  {
   "cell_type": "code",
   "execution_count": 12,
   "metadata": {},
   "outputs": [
    {
     "name": "stdout",
     "output_type": "stream",
     "text": [
      "Accuracy for 0.01: 0.7958162224442014\n",
      "Accuracy for 0.05: 0.7965085858345622\n",
      "Accuracy for 0.25: 0.7965508675683246\n",
      "Accuracy for 0.5: 0.7965614380017653\n",
      "Accuracy for 1: 0.7965138710512825\n"
     ]
    }
   ],
   "source": [
    "for c in [0.01, 0.05, 0.25, 0.5, 1]:\n",
    "    lr = LR(C=c, max_iter=30)\n",
    "    lr.fit(tr_x, tr_labels)\n",
    "    print (\"Accuracy for {}: {}\".format(c, AS(te_labels, lr.predict(te_x))))"
   ]
  },
  {
   "cell_type": "markdown",
   "metadata": {},
   "source": [
    "# stemming"
   ]
  },
  {
   "cell_type": "code",
   "execution_count": 13,
   "metadata": {},
   "outputs": [],
   "source": [
    "pos, neg = get_tweets()\n",
    "pos, neg = normalize_stemming(pos), normalize_stemming(neg)\n",
    "tr       = pos+neg"
   ]
  },
  {
   "cell_type": "code",
   "execution_count": 14,
   "metadata": {},
   "outputs": [],
   "source": [
    "cv3 = CV(binary=True)\n",
    "cv3.fit(tr)\n",
    "\n",
    "tra = cv3.transform(tr)\n",
    "\n",
    "labels = [1 if i < len(pos) else -1 for i in range(len(pos)+len(neg))]\n",
    "\n",
    "tr_x, te_x, tr_labels, te_labels = TrTeS(tra, labels, train_size=0.75)"
   ]
  },
  {
   "cell_type": "code",
   "execution_count": 15,
   "metadata": {},
   "outputs": [
    {
     "name": "stdout",
     "output_type": "stream",
     "text": [
      "Accuracy for 0.01: 0.7937620348789068\n",
      "Accuracy for 0.05: 0.7939223531194229\n",
      "Accuracy for 0.25: 0.7939047357303552\n",
      "Accuracy for 0.5: 0.7938465983464319\n",
      "Accuracy for 1: 0.7939205913805162\n"
     ]
    }
   ],
   "source": [
    "for c in [0.01, 0.05, 0.25, 0.5, 1]:\n",
    "    lr = LR(C=c, max_iter=30)\n",
    "    lr.fit(tr_x, tr_labels)\n",
    "    print (\"Accuracy for {}: {}\".format(c, AS(te_labels, lr.predict(te_x))))"
   ]
  },
  {
   "cell_type": "markdown",
   "metadata": {},
   "source": [
    "# lemmatization"
   ]
  },
  {
   "cell_type": "code",
   "execution_count": 16,
   "metadata": {},
   "outputs": [],
   "source": [
    "pos, neg = get_tweets()\n",
    "pos, neg = normalize_lemmatization(pos), normalize_lemmatization(neg)\n",
    "tr       = pos+neg"
   ]
  },
  {
   "cell_type": "code",
   "execution_count": 17,
   "metadata": {},
   "outputs": [],
   "source": [
    "cv3 = CV(binary=True)\n",
    "cv3.fit(tr)\n",
    "\n",
    "tra = cv3.transform(tr)\n",
    "\n",
    "labels = [1 if i < len(pos) else -1 for i in range(len(pos)+len(neg))]\n",
    "\n",
    "tr_x, te_x, tr_labels, te_labels = TrTeS(tra, labels, train_size=0.75)"
   ]
  },
  {
   "cell_type": "code",
   "execution_count": 18,
   "metadata": {},
   "outputs": [
    {
     "name": "stdout",
     "output_type": "stream",
     "text": [
      "Accuracy for 0.01: 0.7945107739142844\n",
      "Accuracy for 0.05: 0.7966142901689683\n",
      "Accuracy for 0.25: 0.797054724895661\n",
      "Accuracy for 0.5: 0.797438783977337\n",
      "Accuracy for 1: 0.7973859318101338\n"
     ]
    }
   ],
   "source": [
    "for c in [0.01, 0.05, 0.25, 0.5, 1]:\n",
    "    lr = LR(C=c, max_iter=30)\n",
    "    lr.fit(tr_x, tr_labels)\n",
    "    print (\"Accuracy for {}: {}\".format(c, AS(te_labels, lr.predict(te_x))))"
   ]
  },
  {
   "cell_type": "markdown",
   "metadata": {},
   "source": [
    "# stop words"
   ]
  },
  {
   "cell_type": "code",
   "execution_count": 19,
   "metadata": {},
   "outputs": [],
   "source": [
    "pos, neg = get_tweets()\n",
    "pos, neg = remove_duplicates(pos), remove_duplicates(neg)\n",
    "tr       = pos+neg"
   ]
  },
  {
   "cell_type": "code",
   "execution_count": 20,
   "metadata": {},
   "outputs": [],
   "source": [
    "cv3 = CV(binary=True, stop_words=get_stop_words(pos,neg))\n",
    "cv3.fit(tr)\n",
    "\n",
    "tra = cv3.transform(tr)\n",
    "\n",
    "labels = [1 if i < len(pos) else -1 for i in range(len(pos)+len(neg))]\n",
    "\n",
    "tr_x, te_x, tr_labels, te_labels = TrTeS(tra, labels, train_size=0.75)"
   ]
  },
  {
   "cell_type": "code",
   "execution_count": 21,
   "metadata": {},
   "outputs": [
    {
     "name": "stdout",
     "output_type": "stream",
     "text": [
      "Accuracy for 0.01: 0.7968944066551449\n",
      "Accuracy for 0.05: 0.7981470030178588\n",
      "Accuracy for 0.25: 0.7997854202011554\n",
      "Accuracy for 0.5: 0.7998964097522819\n",
      "Accuracy for 1: 0.7995652028378091\n"
     ]
    }
   ],
   "source": [
    "for c in [0.01, 0.05, 0.25, 0.5, 1]:\n",
    "    lr = LR(C=c, max_iter=30)\n",
    "    lr.fit(tr_x, tr_labels)\n",
    "    print (\"Accuracy for {}: {}\".format(c, AS(te_labels, lr.predict(te_x))))"
   ]
  }
 ],
 "metadata": {
  "kernelspec": {
   "display_name": "Python 3",
   "language": "python",
   "name": "python3"
  },
  "language_info": {
   "codemirror_mode": {
    "name": "ipython",
    "version": 3
   },
   "file_extension": ".py",
   "mimetype": "text/x-python",
   "name": "python",
   "nbconvert_exporter": "python",
   "pygments_lexer": "ipython3",
   "version": "3.8.0"
  }
 },
 "nbformat": 4,
 "nbformat_minor": 2
}
