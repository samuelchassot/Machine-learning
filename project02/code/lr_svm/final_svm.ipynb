{
 "cells": [
  {
   "cell_type": "code",
   "execution_count": null,
   "metadata": {},
   "outputs": [],
   "source": [
    "def warn(*args, **kwargs):\n",
    "    pass\n",
    "\n",
    "import warnings\n",
    "warnings.warn = warn\n",
    "\n",
    "from sklearn.feature_extraction.text import CountVectorizer as CV\n",
    "from sklearn.svm import LinearSVC as SVM\n",
    "from sklearn.model_selection import train_test_split as TrTeS\n",
    "from sklearn.metrics import accuracy_score as AS\n",
    "\n",
    "import re"
   ]
  },
  {
   "cell_type": "code",
   "execution_count": null,
   "metadata": {},
   "outputs": [],
   "source": [
    "DATASET_PATH      = \"Datasets/\"\n",
    "DATASET_PATH_MORE = \"twitter-datasets/\"\n",
    "\n",
    "POS_DATASET  = \"train_pos\"\n",
    "NEG_DATASET  = \"train_neg\"\n",
    "\n",
    "FULL_DATASETS_EXT = \"_full\"\n",
    "EXT = \".txt\""
   ]
  },
  {
   "cell_type": "code",
   "execution_count": null,
   "metadata": {},
   "outputs": [],
   "source": [
    "def simple_clean(t):\n",
    "    t = t.replace(\"<user>\", \"\")\n",
    "    t = t.replace(\"<url>\", \"\")\n",
    "    t = t.replace(\"\\n\", \"\")\n",
    "    t = re.compile(\"[.;:!\\'?,\\\"()\\[\\]]\").sub(\"\", t.lower())\n",
    "    \n",
    "    return t\n",
    "    \n",
    "def clean(tweets):\n",
    "    return [simple_clean(t) for t in tweets]\n",
    "\n",
    "def read_tweets_file(pos=True, full=True):\n",
    "    path = DATASET_PATH+DATASET_PATH_MORE\n",
    "    \n",
    "    if pos:\n",
    "        path += POS_DATASET\n",
    "    else:\n",
    "        path += NEG_DATASET\n",
    "    \n",
    "    if full:\n",
    "        path += FULL_DATASETS_EXT\n",
    "    \n",
    "    path += EXT\n",
    "    \n",
    "    tweets = []\n",
    "    with open(path, 'r') as file:\n",
    "        for line in file:\n",
    "            tweets.append(line)\n",
    "    \n",
    "    return tweets\n",
    "\n",
    "def get_tweets(full=True):\n",
    "    return read_tweets_file(True,full), read_tweets_file(False,full)"
   ]
  },
  {
   "cell_type": "markdown",
   "metadata": {},
   "source": [
    "# 3-grams"
   ]
  },
  {
   "cell_type": "code",
   "execution_count": null,
   "metadata": {},
   "outputs": [],
   "source": [
    "pos, neg = get_tweets()\n",
    "pos, neg = clean(pos), clean(neg)\n",
    "tr       = pos+neg"
   ]
  },
  {
   "cell_type": "code",
   "execution_count": null,
   "metadata": {},
   "outputs": [],
   "source": [
    "cv3 = CV(binary=True, ngram_range=(1, 3))\n",
    "cv3.fit(tr)\n",
    "\n",
    "tra = cv3.transform(tr)\n",
    "\n",
    "labels = [1 if i < len(pos) else -1 for i in range(len(pos)+len(neg))]\n",
    "\n",
    "tr_x, te_x, tr_labels, te_labels = TrTeS(tra, labels, train_size=0.75)"
   ]
  },
  {
   "cell_type": "code",
   "execution_count": null,
   "metadata": {},
   "outputs": [],
   "source": [
    "for c in [0.02, 0.05, 0.08, 0.11]:\n",
    "    svm = SVM(C=c, max_iter=500)\n",
    "    svm.fit(tr_x, tr_labels)\n",
    "    print (\"Accuracy for {}: {}\".format(c, AS(te_labels, svm.predict(te_x))))"
   ]
  },
  {
   "cell_type": "markdown",
   "metadata": {},
   "source": [
    "# 4-grams"
   ]
  },
  {
   "cell_type": "code",
   "execution_count": null,
   "metadata": {},
   "outputs": [],
   "source": [
    "cv4 = CV(binary=True, ngram_range=(1, 4))\n",
    "cv4.fit(tr)\n",
    "\n",
    "tra = cv4.transform(tr)\n",
    "\n",
    "labels = [1 if i < len(pos) else -1 for i in range(len(pos)+len(neg))]\n",
    "\n",
    "tr_x, te_x, tr_labels, te_labels = TrTeS(tra, labels, train_size=0.75)"
   ]
  },
  {
   "cell_type": "code",
   "execution_count": null,
   "metadata": {},
   "outputs": [],
   "source": [
    "for c in [0.02, 0.05, 0.08, 0.11]:\n",
    "    svm = SVM(C=c, max_iter=500)\n",
    "    svm.fit(tr_x, tr_labels)\n",
    "    print (\"Accuracy for {}: {}\".format(c, AS(te_labels, svm.predict(te_x))))"
   ]
  }
 ],
 "metadata": {
  "kernelspec": {
   "display_name": "Python 3",
   "language": "python",
   "name": "python3"
  },
  "language_info": {
   "codemirror_mode": {
    "name": "ipython",
    "version": 3
   },
   "file_extension": ".py",
   "mimetype": "text/x-python",
   "name": "python",
   "nbconvert_exporter": "python",
   "pygments_lexer": "ipython3",
   "version": "3.8.0"
  }
 },
 "nbformat": 4,
 "nbformat_minor": 2
}
