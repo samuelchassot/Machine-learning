{
 "cells": [
  {
   "cell_type": "raw",
   "metadata": {},
   "source": [
    "Ensure that your file hierarchy contain at least the followinf directories and files before running this jupyter notebook.\n",
    "\n",
    "clean_twitter_datasets.ipynb  \n",
    "└─ Datasets  \n",
    "   └── twitter-datasets  \n",
    "       ├── cleaned  \n",
    "       │   ├── lemmatization  \n",
    "       │   └── stemming  \n",
    "       ├── test_data.txt  \n",
    "       ├── train_neg_full.txt  \n",
    "       ├── train_neg.txt  \n",
    "       ├── train_pos_full.txt  \n",
    "       └── train_pos.txt\n",
    "       \n",
    "Where the txt files are extracted from the provided datasets."
   ]
  },
  {
   "cell_type": "code",
   "execution_count": null,
   "metadata": {},
   "outputs": [],
   "source": [
    "import re\n",
    "\n",
    "from nltk.stem.porter import PorterStemmer\n",
    "from nltk.stem import WordNetLemmatizer"
   ]
  },
  {
   "cell_type": "code",
   "execution_count": null,
   "metadata": {},
   "outputs": [],
   "source": [
    "DATASET_PATH      = \"Datasets/\"\n",
    "DATASET_PATH_MORE = \"twitter-datasets/\"\n",
    "\n",
    "POS_DATASET  = \"train_pos\"\n",
    "NEG_DATASET  = \"train_neg\"\n",
    "\n",
    "FULL_DATASETS_EXT = \"_full\"\n",
    "EXT = \".txt\"\n",
    "\n",
    "TEST_FILE_ORIGINAL = \"test_data.txt\""
   ]
  },
  {
   "cell_type": "code",
   "execution_count": null,
   "metadata": {},
   "outputs": [],
   "source": [
    "def read_tweets_file(train, pos, full):\n",
    "    path   = DATASET_PATH+DATASET_PATH_MORE\n",
    "    tweets = []\n",
    "\n",
    "    if train:\n",
    "        if pos:\n",
    "            path += POS_DATASET\n",
    "        else:\n",
    "            path += NEG_DATASET\n",
    "\n",
    "        if full:\n",
    "            path += FULL_DATASETS_EXT\n",
    "\n",
    "        path += EXT\n",
    "        \n",
    "        with open(path, 'r') as file:\n",
    "            for line in file:\n",
    "                tweets.append(line)\n",
    "    else:\n",
    "        path += TEST_FILE_ORIGINAL\n",
    "        with open(path, 'r') as file:\n",
    "            for line in file:\n",
    "                tweets.append(\"'\".join(line.split(\",\")[1:]))\n",
    "\n",
    "    return tweets\n",
    "\n",
    "def save_tweets_file(directory, tweets, train, pos, full):\n",
    "    path = DATASET_PATH+DATASET_PATH_MORE+directory\n",
    "    \n",
    "    if train:\n",
    "        if pos:\n",
    "            path += POS_DATASET\n",
    "        else:\n",
    "            path += NEG_DATASET\n",
    "\n",
    "        if full:\n",
    "            path += FULL_DATASETS_EXT\n",
    "\n",
    "        path += EXT\n",
    "    else:\n",
    "        path += TEST_FILE_ORIGINAL\n",
    "        \n",
    "    with open(path, 'w') as file:\n",
    "        c = 1\n",
    "        for t in tweets:\n",
    "            file.write(t+\"\\n\")\n",
    "            \n",
    "def get_train_pos_full():\n",
    "    return read_tweets_file(train=True, pos=True,  full=True)\n",
    "\n",
    "def get_train_neg_full():\n",
    "    return read_tweets_file(train=True, pos=False, full=True)\n",
    "\n",
    "def get_train_pos():\n",
    "    return read_tweets_file(train=True, pos=True,  full=False)\n",
    "\n",
    "def get_train_neg():\n",
    "    return read_tweets_file(train=True, pos=False, full=False)\n",
    "\n",
    "def get_test():\n",
    "    return read_tweets_file(train=False, pos=False, full=False)"
   ]
  },
  {
   "cell_type": "code",
   "execution_count": null,
   "metadata": {},
   "outputs": [],
   "source": [
    "def simple_clean(t):\n",
    "    t = t.replace(\"<user>\", \"he\")\n",
    "    t = t.replace(\"<url>\", \"it\")\n",
    "    t = t.replace(\" #\", \" \")\n",
    "    t = t.replace(\"\\n\", \"\")\n",
    "    t = re.compile(\"[.;:!\\'?,\\\"()\\[\\]]\").sub(\"\", t.lower())\n",
    "    t = re.sub('\\s{2,}', ' ', t)\n",
    "    \n",
    "    if t[0] == \" \":\n",
    "        return t[1:]\n",
    "    else:\n",
    "        return t\n",
    "    \n",
    "def clean(tweets):\n",
    "    return [simple_clean(t) for t in tweets]\n",
    "    \n",
    "def normalize_stemming(tweets):\n",
    "    s = PorterStemmer()\n",
    "    return [\" \".join([s.stem(w) for w in t.split()]) for t in tweets]\n",
    "\n",
    "def normalize_lemmatization(tweets):\n",
    "    l = WordNetLemmatizer()\n",
    "    return [\" \".join([l.lemmatize(w) for w in t.split()]) for t in tweets]"
   ]
  },
  {
   "cell_type": "code",
   "execution_count": null,
   "metadata": {},
   "outputs": [],
   "source": [
    "train_pos_full = get_train_pos_full()\n",
    "train_neg_full = get_train_neg_full()\n",
    "\n",
    "test = get_test()"
   ]
  },
  {
   "cell_type": "code",
   "execution_count": null,
   "metadata": {},
   "outputs": [],
   "source": [
    "cleaned_train_pos_full = clean(train_pos_full)\n",
    "cleaned_train_neg_full = clean(train_neg_full)\n",
    "\n",
    "cleaned_test = clean(test)"
   ]
  },
  {
   "cell_type": "code",
   "execution_count": null,
   "metadata": {},
   "outputs": [],
   "source": [
    "save_tweets_file(\"cleaned/\", cleaned_train_pos_full, True,  True,  True)\n",
    "save_tweets_file(\"cleaned/\", cleaned_train_neg_full, True,  False, True)\n",
    "save_tweets_file(\"cleaned/\", cleaned_test,           False, False, False)"
   ]
  },
  {
   "cell_type": "code",
   "execution_count": null,
   "metadata": {},
   "outputs": [],
   "source": [
    "s_cleaned_train_pos_full = normalize_stemming(cleaned_train_pos_full)\n",
    "s_cleaned_train_neg_full = normalize_stemming(cleaned_train_neg_full)\n",
    "\n",
    "s_cleaned_test = normalize_stemming(cleaned_test)"
   ]
  },
  {
   "cell_type": "code",
   "execution_count": null,
   "metadata": {},
   "outputs": [],
   "source": [
    "save_tweets_file(\"cleaned/stemming/\", s_cleaned_train_pos_full, True,  True,  True)\n",
    "save_tweets_file(\"cleaned/stemming/\", s_cleaned_train_neg_full, True,  False, True)\n",
    "save_tweets_file(\"cleaned/stemming/\", s_cleaned_test,            False, False, False)"
   ]
  },
  {
   "cell_type": "code",
   "execution_count": null,
   "metadata": {},
   "outputs": [],
   "source": [
    "l_cleaned_train_pos_full = normalize_lemmatization(cleaned_train_pos_full)\n",
    "l_cleaned_train_neg_full = normalize_lemmatization(cleaned_train_neg_full)\n",
    "\n",
    "l_cleaned_test = normalize_lemmatization(cleaned_test)"
   ]
  },
  {
   "cell_type": "code",
   "execution_count": null,
   "metadata": {},
   "outputs": [],
   "source": [
    "save_tweets_file(\"cleaned/lemmatization/\", l_cleaned_train_pos_full, True,  True,  True)\n",
    "save_tweets_file(\"cleaned/lemmatization/\", l_cleaned_train_neg_full, True,  False, True)\n",
    "save_tweets_file(\"cleaned/lemmatization/\", l_cleaned_test,           False, False, False)"
   ]
  },
  {
   "cell_type": "code",
   "execution_count": null,
   "metadata": {},
   "outputs": [],
   "source": [
    "def get_stop_words(pos, neg):\n",
    "    stop_words = {}\n",
    "    for t in pos+neg:\n",
    "        for w in t.split():\n",
    "            if w in stop_words:\n",
    "                stop_words[w] += 1\n",
    "            else:\n",
    "                stop_words[w]  = 1\n",
    "                \n",
    "    stop_words = [(k,v) for k,v in stop_words.items()]\n",
    "    stop_words.sort(key=lambda t : t[1], reverse=True)\n",
    "    \n",
    "    return stop_words\n",
    "\n",
    "def save_stop_words(directory, stop_words):\n",
    "    path = DATASET_PATH+DATASET_PATH_MORE+directory\n",
    "    with open(path, 'w') as file:\n",
    "        for k,v in stop_words:\n",
    "            file.write(k+\" \"+str(v)+\"\\n\")"
   ]
  },
  {
   "cell_type": "code",
   "execution_count": null,
   "metadata": {},
   "outputs": [],
   "source": [
    "save_stop_words(\"cleaned/stop_words.txt\",               get_stop_words(cleaned_train_pos_full,   cleaned_train_neg_full))\n",
    "save_stop_words(\"cleaned/stemming/stop_words.txt\",      get_stop_words(s_cleaned_train_pos_full, s_cleaned_train_neg_full))\n",
    "save_stop_words(\"cleaned/lemmatization/stop_words.txt\", get_stop_words(l_cleaned_train_pos_full, l_cleaned_train_neg_full))"
   ]
  }
 ],
 "metadata": {
  "kernelspec": {
   "display_name": "Python 3",
   "language": "python",
   "name": "python3"
  },
  "language_info": {
   "codemirror_mode": {
    "name": "ipython",
    "version": 3
   },
   "file_extension": ".py",
   "mimetype": "text/x-python",
   "name": "python",
   "nbconvert_exporter": "python",
   "pygments_lexer": "ipython3",
   "version": "3.8.0"
  }
 },
 "nbformat": 4,
 "nbformat_minor": 2
}
