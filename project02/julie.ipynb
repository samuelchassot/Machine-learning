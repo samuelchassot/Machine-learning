{
 "cells": [
  {
   "cell_type": "code",
   "execution_count": 2,
   "metadata": {},
   "outputs": [],
   "source": [
    "import numpy as np\n",
    "from sklearn import svm\n",
    "from sklearn.linear_model import SGDClassifier\n",
    "from sklearn.model_selection import cross_val_score\n",
    "from sklearn.model_selection import ShuffleSplit\n",
    "from helpers import *"
   ]
  },
  {
   "cell_type": "code",
   "execution_count": 0,
   "metadata": {},
   "outputs": [],
   "source": [
    "#Create embeddings with glove_solution\n",
    "from glove_solution import main as glove_main\n",
    "glove_main()"
   ]
  },
  {
   "cell_type": "code",
   "execution_count": 55,
   "metadata": {},
   "outputs": [],
   "source": [
    "from pattern.en import *"
   ]
  },
  {
   "cell_type": "code",
   "execution_count": 3,
   "metadata": {},
   "outputs": [
    {
     "data": {
      "text/plain": [
       "(21161, 20)"
      ]
     },
     "execution_count": 3,
     "metadata": {},
     "output_type": "execute_result"
    }
   ],
   "source": [
    "word_embeddings = np.load(\"embeddings.npy\")\n",
    "word_embeddings.shape"
   ]
  },
  {
   "cell_type": "code",
   "execution_count": 4,
   "metadata": {},
   "outputs": [],
   "source": [
    "words_list = words_list(\"vocab_cut.txt\")"
   ]
  },
  {
   "cell_type": "code",
   "execution_count": 5,
   "metadata": {},
   "outputs": [],
   "source": [
    "tweets_pos_txt = tweets_txt(\"Datasets/twitter-datasets/train_pos.txt\")\n",
    "tweets_neg_txt = tweets_txt(\"Datasets/twitter-datasets/train_neg.txt\")"
   ]
  },
  {
   "cell_type": "markdown",
   "metadata": {},
   "source": [
    "# Do some data cleaning"
   ]
  },
  {
   "cell_type": "code",
   "execution_count": 29,
   "metadata": {},
   "outputs": [],
   "source": [
    "#Remove duplicates\n",
    "unique_tweets_pos_txt = remove_duplicated_tweets_txt(tweets_pos_txt)\n",
    "unique_tweets_neg_txt = remove_duplicated_tweets_txt(tweets_neg_txt)"
   ]
  },
  {
   "cell_type": "code",
   "execution_count": 61,
   "metadata": {},
   "outputs": [
    {
     "name": "stdout",
     "output_type": "stream",
     "text": [
      "[\"don't\", 'worry', 'spider', 'is', 'smaller', 'than', 'you', 'yeah', '..', 'so', 'is', 'grenade', 'hahaha']\n",
      "['do', 'worry', 'spider', 'be', 'smaller', 'than', 'you', 'yeah', '..', 'so', 'be', 'grenade', 'hahaha']\n"
     ]
    },
    {
     "data": {
      "text/plain": [
       "'dont'"
      ]
     },
     "execution_count": 61,
     "metadata": {},
     "output_type": "execute_result"
    }
   ],
   "source": [
    "common = ['\"', ',', '.', ')', '(', '-', \"<user>\", \"<url>\", \"a\", \"the\", \"of\", \"to\", \\\n",
    "                \"it\", \"this\", \"that\", \"these\", \"there\"]\n",
    "t = [t for t in unique_tweets_pos_txt[70].split(\" \") if t not in common]\n",
    "\n",
    "if(t[0:3] == ['!', '!', '!']):\n",
    "    t = t[3:]\n",
    "print(t)\n",
    "print([conjugate(w) for w in t])\n",
    "conjugate(\"dont\")"
   ]
  },
  {
   "cell_type": "code",
   "execution_count": 18,
   "metadata": {},
   "outputs": [
    {
     "name": "stdout",
     "output_type": "stream",
     "text": [
      "(100000,)\n"
     ]
    }
   ],
   "source": [
    "#Filter tweets\n",
    "common = ['\"', ',', '.', ')', '(', '-', \\\n",
    "                \"<user>\", \"<url>\", \"a\", \"the\", \"of\", \"to\", \\\n",
    "                \"it\", \"this\", \"that\", \"these\", \"there\"]\n",
    "tweets_pos_vec = tweet_means(tweets_pos_txt, word_embeddings, \\\n",
    "                             words_list, word_embeddings[0].shape[0], \\\n",
    "                             true, common)\n",
    "tweets_neg_vec = tweet_means(tweets_new_txt, word_embeddings, \\\n",
    "                             words_list, word_embeddings[0].shape[0], \\\n",
    "                             true, common)"
   ]
  },
  {
   "cell_type": "code",
   "execution_count": 0,
   "metadata": {},
   "outputs": [],
   "source": [
    "#Means for tweets not filtered\n",
    "tweets_pos_vec = tweet_means(tweets_pos_txt, \\\n",
    "    word_embeddings, words_list, word_embeddings[0].shape[0])\n",
    "tweets_neg_vec = tweet_means(tweets_new_txt, \\\n",
    "    word_embeddings, words_list, word_embeddings[0].shape[0])"
   ]
  },
  {
   "cell_type": "code",
   "execution_count": 0,
   "metadata": {},
   "outputs": [],
   "source": [
    "np.save('tweets_pos_vec', tweets_pos_vec)\n",
    "np.save('tweets_neg_vec', tweets_neg_vec)"
   ]
  },
  {
   "cell_type": "markdown",
   "metadata": {},
   "source": [
    "# TRAINING TIME"
   ]
  },
  {
   "cell_type": "code",
   "execution_count": null,
   "metadata": {},
   "outputs": [],
   "source": [
    "tweets_pos_vec = np.load('tweets_pos_vec.npy')\n",
    "tweets_neg_vec = np.load('tweets_neg_vec.npy')"
   ]
  },
  {
   "cell_type": "code",
   "execution_count": null,
   "metadata": {},
   "outputs": [],
   "source": [
    "#TO USE IF ALGO ASKS LABEL TO BE 1 AND -1\n",
    "X = np.concatenate((tweets_pos_vec, tweets_neg_vec))\n",
    "y = np.concatenate((np.ones((tweets_pos_vec.shape[0])), -1*np.ones((tweets_pos_vec.shape[0]))))"
   ]
  },
  {
   "cell_type": "code",
   "execution_count": 0,
   "metadata": {},
   "outputs": [],
   "source": [
    "#TO USE IF ALGO ASKS LABEL TO BE 1 AND 0\n",
    "X = np.concatenate((tweets_pos_vec, tweets_neg_vec))\n",
    "y = np.concatenate((np.ones((tweets_pos_vec.shape[0])), np.zeros((tweets_pos_vec.shape[0]))))"
   ]
  },
  {
   "cell_type": "code",
   "execution_count": null,
   "metadata": {},
   "outputs": [],
   "source": [
    "#NEED TO CHECK IF IT IS REALLY WHAT SCORING ASKS\n",
    "def accuracy(estimator, X, y):\n",
    "    return np.mean(y==estimator.predict(X))"
   ]
  },
  {
   "cell_type": "code",
   "execution_count": null,
   "metadata": {},
   "outputs": [],
   "source": [
    "j = 0.9\n",
    "\n",
    "train_X = X[0:int(j*len(y))]\n",
    "train_y = y[0:int(j*len(y))]\n",
    "test_X = X[int(j*len(y)):]\n",
    "test_y = y[int(j*len(y)):]\n",
    "\n",
    "def accuracy(y1, y2):\n",
    "    return np.mean(y1==y2)\n",
    "\n",
    "mlp = MLPClassifier(hidden_layer_sizes=(100,), max_iter=1000)\n",
    "mlp.fit(train_X, train_y)\n",
    "y_pred = mlp.predict(test_X)\n",
    "accuracy(test_y, y_pred)"
   ]
  },
  {
   "cell_type": "code",
   "execution_count": 20,
   "metadata": {},
   "outputs": [
    {
     "ename": "SyntaxError",
     "evalue": "positional argument follows keyword argument (<ipython-input-20-bcdad1a63b29>, line 4)",
     "output_type": "error",
     "traceback": [
      "\u001b[0;36m  File \u001b[0;32m\"<ipython-input-20-bcdad1a63b29>\"\u001b[0;36m, line \u001b[0;32m4\u001b[0m\n\u001b[0;31m    scores = cross_val_score(estimator=y, X, y, scoring=accuracy, cv=cv)\u001b[0m\n\u001b[0m                                         ^\u001b[0m\n\u001b[0;31mSyntaxError\u001b[0m\u001b[0;31m:\u001b[0m positional argument follows keyword argument\n"
     ]
    }
   ],
   "source": [
    "numpy.random.seed(42)\n",
    "clf = ???\n",
    "cv = ShuffleSplit(n_splits=5, test_size=0.3, random_state=42)\n",
    "scores = cross_val_score(estimator=clf, X, y, scoring=accuracy, cv=cv)"
   ]
  }
 ],
 "metadata": {
  "file_extension": ".py",
  "kernelspec": {
   "display_name": "Python 3",
   "language": "python",
   "name": "python3"
  },
  "language_info": {
   "codemirror_mode": {
    "name": "ipython",
    "version": 3
   },
   "file_extension": ".py",
   "mimetype": "text/x-python",
   "name": "python",
   "nbconvert_exporter": "python",
   "pygments_lexer": "ipython3",
   "version": "3.7.5"
  },
  "mimetype": "text/x-python",
  "name": "python",
  "npconvert_exporter": "python",
  "pygments_lexer": "ipython3",
  "version": 3
 },
 "nbformat": 4,
 "nbformat_minor": 2
}
