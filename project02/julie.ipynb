{
 "cells": [
  {
   "cell_type": "code",
   "execution_count": 1,
   "metadata": {},
   "outputs": [],
   "source": [
    "import numpy as np\n",
    "from sklearn import svm\n",
    "from sklearn.linear_model import SGDClassifier\n",
    "from sklearn.model_selection import cross_val_score\n",
    "from sklearn.model_selection import ShuffleSplit\n",
    "from sklearn.linear_model import LogisticRegression\n",
    "from sklearn.neural_network import MLPClassifier\n",
    "from helpers import *"
   ]
  },
  {
   "cell_type": "code",
   "execution_count": 4,
   "metadata": {},
   "outputs": [
    {
     "name": "stdout",
     "output_type": "stream",
     "text": [
      "loading cooccurrence matrix\n",
      "6496907 nonzero entries\n",
      "using nmax = 100 , cooc.max() = 207302\n",
      "initializing embeddings\n",
      "epoch 0\n",
      "epoch 1\n",
      "epoch 2\n",
      "epoch 3\n",
      "epoch 4\n",
      "epoch 5\n",
      "epoch 6\n",
      "epoch 7\n",
      "epoch 8\n",
      "epoch 9\n"
     ]
    }
   ],
   "source": [
    "#Create embeddings with glove_solution\n",
    "from glove_solution import main as glove_main\n",
    "glove_main()"
   ]
  },
  {
   "cell_type": "code",
   "execution_count": 2,
   "metadata": {},
   "outputs": [],
   "source": [
    "from pattern.en import *"
   ]
  },
  {
   "cell_type": "code",
   "execution_count": 3,
   "metadata": {},
   "outputs": [
    {
     "data": {
      "text/plain": [
       "(21161, 20)"
      ]
     },
     "execution_count": 3,
     "metadata": {},
     "output_type": "execute_result"
    }
   ],
   "source": [
    "word_embeddings = np.load(\"embeddings.npy\")\n",
    "word_embeddings.shape"
   ]
  },
  {
   "cell_type": "code",
   "execution_count": 4,
   "metadata": {},
   "outputs": [],
   "source": [
    "words_list = words_list(\"vocab_cut.txt\")"
   ]
  },
  {
   "cell_type": "code",
   "execution_count": 5,
   "metadata": {},
   "outputs": [],
   "source": [
    "tweets_pos_txt = tweets_txt(\"Datasets/twitter-datasets/train_pos.txt\")\n",
    "tweets_neg_txt = tweets_txt(\"Datasets/twitter-datasets/train_neg.txt\")"
   ]
  },
  {
   "cell_type": "markdown",
   "metadata": {},
   "source": [
    "# Do some data cleaning"
   ]
  },
  {
   "cell_type": "code",
   "execution_count": 6,
   "metadata": {},
   "outputs": [],
   "source": [
    "#Remove duplicates\n",
    "unique_tweets_pos_txt = remove_duplicated_tweets_txt(tweets_pos_txt)\n",
    "unique_tweets_neg_txt = remove_duplicated_tweets_txt(tweets_neg_txt)"
   ]
  },
  {
   "cell_type": "code",
   "execution_count": 7,
   "metadata": {},
   "outputs": [],
   "source": [
    "#Spelling changes\n",
    "spelling_dict = {\"u\" : \"you\", \"dont\" : \"don't\", \"cant\" : \"can't\", \"r\" : \"are\", \"wont\" : \"won't\"}"
   ]
  },
  {
   "cell_type": "code",
   "execution_count": 9,
   "metadata": {},
   "outputs": [],
   "source": [
    "#Filter tweets\n",
    "common = ['\"', ',', '.', ')', '(', '-', \\\n",
    "                \"<user>\", \"<url>\", \"a\", \"the\", \"of\", \"to\", \\\n",
    "                \"it\", \"this\", \"that\", \"these\", \"there\"]\n",
    "tweets_pos_vec_clean = tweet_means(unique_tweets_pos_txt, word_embeddings,\n",
    "                             words_list, word_embeddings[0].shape[0],\n",
    "                             spelling=True, spelling_dict=spelling_dict, \n",
    "                             negation=True, \n",
    "                             clean=True, common=common)\n",
    "tweets_neg_vec_clean = tweet_means(unique_tweets_neg_txt, word_embeddings, \n",
    "                             words_list, word_embeddings[0].shape[0], \n",
    "                             True, spelling_dict, \n",
    "                             True, \n",
    "                             True, common)\n",
    "\n",
    "np.save('tweets_pos_vec_clean', tweets_pos_vec_clean)\n",
    "np.save('tweets_neg_vec_clean', tweets_neg_vec_clean)"
   ]
  },
  {
   "cell_type": "code",
   "execution_count": null,
   "metadata": {},
   "outputs": [],
   "source": [
    "#Means for tweets not filtered\n",
    "tweets_pos_vec = tweet_means(tweets_pos_txt, \\\n",
    "    word_embeddings, words_list, word_embeddings[0].shape[0])\n",
    "tweets_neg_vec = tweet_means(tweets_new_txt, \\\n",
    "    word_embeddings, words_list, word_embeddings[0].shape[0])\n",
    "\n",
    "np.save('tweets_pos_vec', tweets_pos_vec)\n",
    "np.save('tweets_neg_vec', tweets_neg_vec)"
   ]
  },
  {
   "cell_type": "code",
   "execution_count": null,
   "metadata": {},
   "outputs": [],
   "source": [
    "np.save('tweets_pos_vec', tweets_pos_vec)\n",
    "np.save('tweets_neg_vec', tweets_neg_vec)"
   ]
  },
  {
   "cell_type": "markdown",
   "metadata": {},
   "source": [
    "# TRAINING TIME"
   ]
  },
  {
   "cell_type": "code",
   "execution_count": 6,
   "metadata": {},
   "outputs": [],
   "source": [
    "tweets_pos_vec = np.load('tweets_pos_vec_clean.npy')\n",
    "tweets_neg_vec = np.load('tweets_neg_vec_clean.npy')"
   ]
  },
  {
   "cell_type": "code",
   "execution_count": null,
   "metadata": {},
   "outputs": [],
   "source": [
    "#TO USE IF ALGO ASKS LABEL TO BE 1 AND -1\n",
    "X = np.concatenate((tweets_pos_vec, tweets_neg_vec))\n",
    "y = np.concatenate((np.ones((tweets_pos_vec.shape[0])), -1*np.ones((tweets_neg_vec.shape[0]))))"
   ]
  },
  {
   "cell_type": "code",
   "execution_count": 7,
   "metadata": {},
   "outputs": [],
   "source": [
    "#TO USE IF ALGO ASKS LABEL TO BE 1 AND 0\n",
    "X = np.concatenate((tweets_pos_vec, tweets_neg_vec))\n",
    "y = np.concatenate((np.ones((tweets_pos_vec.shape[0])), np.zeros((tweets_neg_vec.shape[0]))))"
   ]
  },
  {
   "cell_type": "code",
   "execution_count": null,
   "metadata": {},
   "outputs": [],
   "source": [
    "#NEED TO CHECK IF IT IS REALLY WHAT SCORING ASKS\n",
    "def accuracy(estimator, X, y):\n",
    "    return np.mean(y==estimator.predict(X))"
   ]
  },
  {
   "cell_type": "code",
   "execution_count": null,
   "metadata": {},
   "outputs": [],
   "source": [
    "numpy.random.seed(42)\n",
    "clf = ???\n",
    "cv = ShuffleSplit(n_splits=5, test_size=0.3, random_state=42)\n",
    "scores = cross_val_score(estimator=clf, X, y, scoring=accuracy, cv=cv)"
   ]
  },
  {
   "cell_type": "code",
   "execution_count": 9,
   "metadata": {},
   "outputs": [
    {
     "name": "stdout",
     "output_type": "stream",
     "text": [
      "SVM : 0.6134671593227816\n",
      "SGD : 0.6115921248552363\n"
     ]
    },
    {
     "name": "stderr",
     "output_type": "stream",
     "text": [
      "/usr/local/lib/python3.7/site-packages/sklearn/linear_model/logistic.py:432: FutureWarning: Default solver will be changed to 'lbfgs' in 0.22. Specify a solver to silence this warning.\n",
      "  FutureWarning)\n"
     ]
    },
    {
     "name": "stdout",
     "output_type": "stream",
     "text": [
      "LR : 0.6081177962830199\n",
      "MLP : 0.6166105994595489\n"
     ]
    }
   ],
   "source": [
    "# VERSION SAMUEL : \n",
    "\n",
    "j = 0.9\n",
    "\n",
    "indices = np.random.permutation(len(y))\n",
    "\n",
    "X = X[indices]\n",
    "y = y[indices]\n",
    "\n",
    "train_X = X[0:int(j*len(y))]\n",
    "train_y = y[0:int(j*len(y))]\n",
    "test_X = X[int(j*len(y)):]\n",
    "test_y = y[int(j*len(y)):]\n",
    "\n",
    "indices = np.random.permutation(len(y))\n",
    "\n",
    "X = X[indices]\n",
    "y = y[indices]\n",
    "\n",
    "def accuracy(y1, y2):\n",
    "    return np.mean(y1==y2)\n",
    "\n",
    "lsvc = svm.LinearSVC(max_iter=10000)\n",
    "lsvc.fit(train_X, train_y)\n",
    "print(\"SVM : \" + str(accuracy(test_y, lsvc.predict(test_X))))\n",
    "\n",
    "sgdcl = SGDClassifier()\n",
    "sgdcl.fit(train_X, train_y)\n",
    "print(\"SGD : \" + str(accuracy(test_y, sgdcl.predict(test_X))))\n",
    "\n",
    "lr = LogisticRegression()\n",
    "lr.fit(train_X, train_y)\n",
    "print(\"LR : \" + str(accuracy(test_y, lr.predict(test_X))))\n",
    "\n",
    "mlp = MLPClassifier(hidden_layer_sizes=(100,), max_iter=1000)\n",
    "mlp.fit(train_X, train_y)\n",
    "print(\"MLP : \" + str(accuracy(test_y, mlp.predict(test_X))))"
   ]
  },
  {
   "cell_type": "code",
   "execution_count": null,
   "metadata": {},
   "outputs": [],
   "source": [
    "# Accuracy after clean + Samuel pipeline\n",
    "\n",
    "SVM : 0.6134671593227816\n",
    "SGD : 0.6115921248552363\n",
    "LR : 0.6081177962830199\n",
    "MLP : 0.6166105994595489"
   ]
  }
 ],
 "metadata": {
  "file_extension": ".py",
  "kernelspec": {
   "display_name": "Python 3",
   "language": "python",
   "name": "python3"
  },
  "language_info": {
   "codemirror_mode": {
    "name": "ipython",
    "version": 3
   },
   "file_extension": ".py",
   "mimetype": "text/x-python",
   "name": "python",
   "nbconvert_exporter": "python",
   "pygments_lexer": "ipython3",
   "version": "3.7.5"
  },
  "mimetype": "text/x-python",
  "name": "python",
  "npconvert_exporter": "python",
  "pygments_lexer": "ipython3",
  "version": 3
 },
 "nbformat": 4,
 "nbformat_minor": 2
}
