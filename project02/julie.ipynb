{
 "cells": [
  {
   "cell_type": "code",
   "execution_count": 1,
   "metadata": {},
   "outputs": [],
   "source": [
    "import numpy as np\n",
    "from sklearn import svm\n",
    "from sklearn.linear_model import SGDClassifier\n",
    "from sklearn.model_selection import cross_val_score\n",
    "from sklearn.model_selection import ShuffleSplit\n",
    "from sklearn.linear_model import LogisticRegression\n",
    "from sklearn.neural_network import MLPClassifier\n",
    "from helpers import *"
   ]
  },
  {
   "cell_type": "markdown",
   "metadata": {},
   "source": [
    "# Do some cleaning before embedding and coocurrences"
   ]
  },
  {
   "cell_type": "code",
   "execution_count": 2,
   "metadata": {},
   "outputs": [],
   "source": [
    "def clean_txt(filename, unique, spelling, spelling_dict, negation, filtered, common):\n",
    "    \"\"\"\n",
    "    Create a new clean file from the txt file containing the tweets\n",
    "    <filename> is the file we want to clean\n",
    "    <unique>, a boolean, to say if we want to remove identique tweets\n",
    "    <spelling>, a boolean, to say if we want to replace some words in the tweets\n",
    "    <spelling_dict>, a dictionary, contains which words should be replaced and by what\n",
    "    <negation>, a boolean, to say if we want to transform verbs like don't into do not\n",
    "    <filtered>, a boolean, to say if we want to remove common words\n",
    "    <common>, a list of common words to remove     \n",
    "    \"\"\"\n",
    "    new_filename = filename.replace(\".txt\", \"_clean.txt\")\n",
    "    try:\n",
    "        os.remove(new_filename)\n",
    "    except OSError:\n",
    "        pass\n",
    "    \n",
    "    prev_f = open(filename, \"r\")\n",
    "    new_f = f= open(new_filename,\"w+\")\n",
    "    \n",
    "    tweets = prev_f.readlines()\n",
    "    \n",
    "    if(unique):\n",
    "        tweets = list(set(tweets))\n",
    "        \n",
    "    tweets_1 = []   \n",
    "    for t in tweets:\n",
    "        new_t = t.split(\" \")\n",
    "        new_t[-1] = new_t[-1].replace('\\n', \"\")\n",
    "        tweets_1.append(new_t)\n",
    "    tweets = tweets_1\n",
    "\n",
    "    if(spelling):\n",
    "        new_tweets = []\n",
    "        for t in tweets:\n",
    "            new_tweets.append(transform_spelling(t, spelling_dict))\n",
    "        tweets = new_tweets\n",
    "               \n",
    "    if(negation):\n",
    "        new_tweets = []\n",
    "        for t in tweets:\n",
    "            new_tweets.append(transform_negation(t))\n",
    "        tweets = new_tweets\n",
    "        \n",
    "    if(filtered):\n",
    "        new_tweets = []\n",
    "        for t in tweets:\n",
    "            new_tweets.append(remove_words(common, t))\n",
    "        tweets = new_tweets            \n",
    "            \n",
    "    for t in tweets:\n",
    "        new_t = \" \".join(t)\n",
    "        new_f.write(new_t)\n",
    "        new_f.write('\\n')\n",
    "    \n",
    "    \n",
    "    prev_f.close()\n",
    "    new_f.close()"
   ]
  },
  {
   "cell_type": "code",
   "execution_count": 54,
   "metadata": {},
   "outputs": [],
   "source": [
    "#test\n",
    "spelling_test = {\"bla\" : \"ble\", \"blo\" : \"blu\"}\n",
    "common_test = [\"!\", \"plop\"]\n",
    "clean_txt(\"clean_test.txt\", True, True, spelling_test, True, True, common_test)"
   ]
  },
  {
   "cell_type": "code",
   "execution_count": 4,
   "metadata": {},
   "outputs": [],
   "source": [
    "clean_txt(\"Datasets/test_data.txt\", False, True, spelling_dict, True, True, common)"
   ]
  },
  {
   "cell_type": "markdown",
   "metadata": {},
   "source": [
    "# Create embeddings and coocurrences"
   ]
  },
  {
   "cell_type": "code",
   "execution_count": null,
   "metadata": {},
   "outputs": [],
   "source": [
    "#Create embeddings with glove_solution\n",
    "from glove_solution import main as glove_main"
   ]
  },
  {
   "cell_type": "code",
   "execution_count": null,
   "metadata": {},
   "outputs": [],
   "source": [
    "# Raw data\n",
    "file_name = 'cooc.pkl'"
   ]
  },
  {
   "cell_type": "code",
   "execution_count": null,
   "metadata": {},
   "outputs": [],
   "source": [
    "# Cleaned data\n",
    "file_name = 'cooc_clean.pkl'"
   ]
  },
  {
   "cell_type": "code",
   "execution_count": null,
   "metadata": {},
   "outputs": [],
   "source": [
    "glove_main(file_name)"
   ]
  },
  {
   "cell_type": "code",
   "execution_count": 2,
   "metadata": {},
   "outputs": [],
   "source": [
    "from pattern.en import *"
   ]
  },
  {
   "cell_type": "code",
   "execution_count": 3,
   "metadata": {},
   "outputs": [
    {
     "data": {
      "text/plain": [
       "(21161, 250)"
      ]
     },
     "execution_count": 3,
     "metadata": {},
     "output_type": "execute_result"
    }
   ],
   "source": [
    "word_embeddings = np.load(\"embeddings.npy\")\n",
    "word_embeddings.shape"
   ]
  },
  {
   "cell_type": "code",
   "execution_count": 4,
   "metadata": {},
   "outputs": [],
   "source": [
    "words_list = words_list(\"vocab_cut.txt\")"
   ]
  },
  {
   "cell_type": "code",
   "execution_count": 5,
   "metadata": {},
   "outputs": [],
   "source": [
    "tweets_pos_txt = tweets_txt(\"Datasets/twitter-datasets/train_pos.txt\")\n",
    "tweets_neg_txt = tweets_txt(\"Datasets/twitter-datasets/train_neg.txt\")"
   ]
  },
  {
   "cell_type": "markdown",
   "metadata": {},
   "source": [
    "# Do some data cleaning after embedding and coocurrences"
   ]
  },
  {
   "cell_type": "code",
   "execution_count": 59,
   "metadata": {},
   "outputs": [
    {
     "name": "stdout",
     "output_type": "stream",
     "text": [
      "[\"Deuxième blah cannot tweet can't blah\" \"Premier tweet do plop don't\"]\n",
      "[['Deuxième', 'bleb', 'cannot', 'tweet', \"can't\", 'bleb'], ['Premier', 'tweet', 'do', 'splash', \"don't\"]]\n",
      "[['Deuxième', 'bleb', 'cannot', 'tweet', 'can', 'not', 'bleb'], ['Premier', 'tweet', 'do', 'splash', 'do', 'not']]\n",
      "[['Deuxième', 'bleb', 'cannot', 'can', 'not', 'bleb'], ['do', 'splash', 'do', 'not']]\n"
     ]
    }
   ],
   "source": [
    "#Tests\n",
    "test_tweets = [\"Premier tweet do plop don't\", \"Deuxième blah cannot tweet can't blah\", \\\n",
    "               \"Premier tweet do plop don't\", \"Premier tweet do plop don't\"]\n",
    "#Remove duplicates :\n",
    "unique = remove_duplicated_tweets_txt(test_tweets)\n",
    "print(unique)\n",
    "\n",
    "#Spelling :\n",
    "spelling_test = {\"blah\" : \"bleb\", \"plop\" : \"splash\"}\n",
    "spelling = []\n",
    "for u in unique:\n",
    "    spelling.append(transform_spelling(u.split(\" \"), spelling_test))\n",
    "print(spelling)\n",
    "\n",
    "#Negation\n",
    "negated = []\n",
    "for s in spelling:\n",
    "    negated.append(transform_negation(s))\n",
    "print(negated)\n",
    "\n",
    "#Filter :\n",
    "common_test = [\"tweet\", \"Premier\"]\n",
    "\n",
    "filtered = []\n",
    "for n in negated:\n",
    "    filtered.append(remove_words(common_test, n))\n",
    "print(filtered)"
   ]
  },
  {
   "cell_type": "code",
   "execution_count": 6,
   "metadata": {},
   "outputs": [],
   "source": [
    "#Remove duplicates\n",
    "unique_tweets_pos_txt = remove_duplicated_tweets_txt(tweets_pos_txt)\n",
    "unique_tweets_neg_txt = remove_duplicated_tweets_txt(tweets_neg_txt)"
   ]
  },
  {
   "cell_type": "code",
   "execution_count": 7,
   "metadata": {},
   "outputs": [],
   "source": [
    "#Spelling changes\n",
    "spelling_dict = {\"u\" : \"you\", \"dont\" : \"don't\", \"cant\" : \"can't\", \"r\" : \"are\", \"wont\" : \"won't\"}\n",
    "\n",
    "#Common words to remove\n",
    "common = ['\"', ',', '.', ')', '(', '-', \\\n",
    "                \"<url>\", \"a\", \"the\", \"of\", \"to\", \\\n",
    "                \"it\", \"this\", \"that\", \"these\", \"there\"]"
   ]
  },
  {
   "cell_type": "code",
   "execution_count": 8,
   "metadata": {},
   "outputs": [],
   "source": [
    "#Filter tweets\n",
    "tweets_pos_vec_clean = tweet_means(unique_tweets_pos_txt, word_embeddings,\n",
    "                             words_list, word_embeddings[0].shape[0],\n",
    "                             True, spelling_dict, \n",
    "                             True, \n",
    "                             True, common)\n",
    "tweets_neg_vec_clean = tweet_means(unique_tweets_neg_txt, word_embeddings, \n",
    "                             words_list, word_embeddings[0].shape[0], \n",
    "                             True, spelling_dict, \n",
    "                             True, \n",
    "                             True, common)\n",
    "\n",
    "np.save('tweets_pos_vec_clean', tweets_pos_vec_clean)\n",
    "np.save('tweets_neg_vec_clean', tweets_neg_vec_clean)"
   ]
  },
  {
   "cell_type": "code",
   "execution_count": null,
   "metadata": {},
   "outputs": [],
   "source": [
    "#Means for tweets not filtered\n",
    "tweets_pos_vec = tweet_means(tweets_pos_txt, \\\n",
    "    word_embeddings, words_list, word_embeddings[0].shape[0])\n",
    "tweets_neg_vec = tweet_means(tweets_new_txt, \\\n",
    "    word_embeddings, words_list, word_embeddings[0].shape[0])\n",
    "\n",
    "np.save('tweets_pos_vec', tweets_pos_vec)\n",
    "np.save('tweets_neg_vec', tweets_neg_vec)"
   ]
  },
  {
   "cell_type": "code",
   "execution_count": null,
   "metadata": {},
   "outputs": [],
   "source": [
    "np.save('tweets_pos_vec', tweets_pos_vec)\n",
    "np.save('tweets_neg_vec', tweets_neg_vec)"
   ]
  },
  {
   "cell_type": "markdown",
   "metadata": {},
   "source": [
    "# TRAINING TIME"
   ]
  },
  {
   "cell_type": "code",
   "execution_count": 9,
   "metadata": {},
   "outputs": [],
   "source": [
    "tweets_pos_vec = np.load('tweets_pos_vec_clean.npy')\n",
    "tweets_neg_vec = np.load('tweets_neg_vec_clean.npy')"
   ]
  },
  {
   "cell_type": "code",
   "execution_count": null,
   "metadata": {},
   "outputs": [],
   "source": [
    "#TO USE IF ALGO ASKS LABEL TO BE 1 AND -1\n",
    "X = np.concatenate((tweets_pos_vec, tweets_neg_vec))\n",
    "y = np.concatenate((np.ones((tweets_pos_vec.shape[0])), -1*np.ones((tweets_neg_vec.shape[0]))))"
   ]
  },
  {
   "cell_type": "code",
   "execution_count": 10,
   "metadata": {},
   "outputs": [],
   "source": [
    "#TO USE IF ALGO ASKS LABEL TO BE 1 AND 0\n",
    "X = np.concatenate((tweets_pos_vec, tweets_neg_vec))\n",
    "y = np.concatenate((np.ones((tweets_pos_vec.shape[0])), np.zeros((tweets_neg_vec.shape[0]))))"
   ]
  },
  {
   "cell_type": "code",
   "execution_count": null,
   "metadata": {},
   "outputs": [],
   "source": [
    "#NEED TO CHECK IF IT IS REALLY WHAT SCORING ASKS\n",
    "def accuracy(estimator, X, y):\n",
    "    return np.mean(y==estimator.predict(X))"
   ]
  },
  {
   "cell_type": "code",
   "execution_count": null,
   "metadata": {},
   "outputs": [],
   "source": [
    "numpy.random.seed(42)\n",
    "clf = ???\n",
    "cv = ShuffleSplit(n_splits=5, test_size=0.3, random_state=42)\n",
    "scores = cross_val_score(estimator=clf, X, y, scoring=accuracy, cv=cv)"
   ]
  },
  {
   "cell_type": "code",
   "execution_count": 11,
   "metadata": {},
   "outputs": [
    {
     "name": "stdout",
     "output_type": "stream",
     "text": [
      "SVM : 0.6342579826835052\n",
      "SGD : 0.6387249765620692\n"
     ]
    },
    {
     "name": "stderr",
     "output_type": "stream",
     "text": [
      "/usr/local/lib/python3.7/site-packages/sklearn/linear_model/logistic.py:432: FutureWarning: Default solver will be changed to 'lbfgs' in 0.22. Specify a solver to silence this warning.\n",
      "  FutureWarning)\n"
     ]
    },
    {
     "name": "stdout",
     "output_type": "stream",
     "text": [
      "LR : 0.6327689847239839\n",
      "MLP : 0.6565378040037501\n",
      "MLP : hidden_layer_sizes=(400,200,100), max_iter=1000, activation='relu'0.6565378040037501\n"
     ]
    }
   ],
   "source": [
    "# VERSION SAMUEL : \n",
    "\n",
    "j = 0.9\n",
    "\n",
    "indices = np.random.permutation(len(y))\n",
    "\n",
    "X = X[indices]\n",
    "y = y[indices]\n",
    "\n",
    "train_X = X[0:int(j*len(y))]\n",
    "train_y = y[0:int(j*len(y))]\n",
    "test_X = X[int(j*len(y)):]\n",
    "test_y = y[int(j*len(y)):]\n",
    "\n",
    "indices = np.random.permutation(len(y))\n",
    "\n",
    "X = X[indices]\n",
    "y = y[indices]\n",
    "\n",
    "def accuracy(y1, y2):\n",
    "    return np.mean(y1==y2)\n",
    "\n",
    "lsvc = svm.LinearSVC(max_iter=10000)\n",
    "lsvc.fit(train_X, train_y)\n",
    "print(\"SVM : \" + str(accuracy(test_y, lsvc.predict(test_X))))\n",
    "\n",
    "sgdcl = SGDClassifier()\n",
    "sgdcl.fit(train_X, train_y)\n",
    "print(\"SGD : \" + str(accuracy(test_y, sgdcl.predict(test_X))))\n",
    "\n",
    "lr = LogisticRegression()\n",
    "lr.fit(train_X, train_y)\n",
    "print(\"LR : \" + str(accuracy(test_y, lr.predict(test_X))))\n",
    "\n",
    "mlp = MLPClassifier(hidden_layer_sizes=(100,), max_iter=1000)\n",
    "mlp.fit(train_X, train_y)\n",
    "print(\"MLP : \" + str(accuracy(test_y, mlp.predict(test_X))))\n",
    "\n",
    "mlp = MLPClassifier(hidden_layer_sizes=(400,200,100), max_iter=1000, activation='relu')\n",
    "mlp.fit(train_X, train_y)\n",
    "print(\"MLP : hidden_layer_sizes=(400,200,100), max_iter=1000, activation='relu'\" + str(accuracy(test_y, mlp.predict(test_X))))"
   ]
  },
  {
   "cell_type": "code",
   "execution_count": null,
   "metadata": {},
   "outputs": [],
   "source": [
    "# Accuracy after clean (after embedding) + Samuel pipeline (embedding = 20 features)\n",
    "\n",
    "# Spelling changes\n",
    "spelling_dict = {\"u\" : \"you\", \"dont\" : \"don't\", \"cant\" : \"can't\", \"r\" : \"are\", \"wont\" : \"won't\"}\n",
    "\n",
    "# Common words removed\n",
    "common = ['\"', ',', '.', ')', '(', '-', \\\n",
    "                \"<user>\", \"<url>\", \"a\", \"the\", \"of\", \"to\", \\\n",
    "                \"it\", \"this\", \"that\", \"these\", \"there\"]\n",
    "# Means with spelling, negation and clean to true\n",
    "\n",
    "# Results : \n"
   ]
  },
  {
   "cell_type": "code",
   "execution_count": null,
   "metadata": {},
   "outputs": [],
   "source": [
    "# Accuracy after clean (after embedding) + Samuel pipeline (embedding = 20 features) \n",
    "# Without removing user -> better\n",
    "\n",
    "# Spelling changes\n",
    "spelling_dict = {\"u\" : \"you\", \"dont\" : \"don't\", \"cant\" : \"can't\", \"r\" : \"are\", \"wont\" : \"won't\"}\n",
    "\n",
    "# Common words removed\n",
    "common = ['\"', ',', '.', ')', '(', '-', \\\n",
    "                \"<url>\", \"a\", \"the\", \"of\", \"to\", \\\n",
    "                \"it\", \"this\", \"that\", \"these\", \"there\"]\n",
    "# Means with spelling, negation and clean to true\n",
    "\n",
    "# Results : \n"
   ]
  },
  {
   "cell_type": "code",
   "execution_count": null,
   "metadata": {},
   "outputs": [],
   "source": [
    "# Accuracy after clean (after embedding) + Samuel pipeline (embedding = 250 features) \n",
    "# Without removing user -> better\n",
    "\n",
    "# Spelling changes\n",
    "spelling_dict = {\"u\" : \"you\", \"dont\" : \"don't\", \"cant\" : \"can't\", \"r\" : \"are\", \"wont\" : \"won't\"}\n",
    "\n",
    "# Common words removed\n",
    "common = ['\"', ',', '.', ')', '(', '-', \\\n",
    "                \"<url>\", \"a\", \"the\", \"of\", \"to\", \\\n",
    "                \"it\", \"this\", \"that\", \"these\", \"there\"]\n",
    "# Means with spelling, negation and clean to true\n",
    "\n",
    "# Results : \n",
    "SVM : 0.6342579826835052\n",
    "SGD : 0.6387249765620692\n",
    "LR : 0.6327689847239839\n",
    "MLP : 0.6565378040037501\n",
    "MLP : hidden_layer_sizes=(400,200,100), max_iter=1000, activation='relu'0.6565378040037501"
   ]
  }
 ],
 "metadata": {
  "file_extension": ".py",
  "kernelspec": {
   "display_name": "Python 3",
   "language": "python",
   "name": "python3"
  },
  "language_info": {
   "codemirror_mode": {
    "name": "ipython",
    "version": 3
   },
   "file_extension": ".py",
   "mimetype": "text/x-python",
   "name": "python",
   "nbconvert_exporter": "python",
   "pygments_lexer": "ipython3",
   "version": "3.7.3"
  },
  "mimetype": "text/x-python",
  "name": "python",
  "npconvert_exporter": "python",
  "pygments_lexer": "ipython3",
  "version": 3
 },
 "nbformat": 4,
 "nbformat_minor": 2
}
