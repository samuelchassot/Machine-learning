{
 "nbformat": 4,
 "nbformat_minor": 2,
 "metadata": {
  "language_info": {
   "name": "python",
   "codemirror_mode": {
    "name": "ipython",
    "version": 3
   }
  },
  "orig_nbformat": 2,
  "file_extension": ".py",
  "mimetype": "text/x-python",
  "name": "python",
  "npconvert_exporter": "python",
  "pygments_lexer": "ipython3",
  "version": 3
 },
 "cells": [
  {
   "cell_type": "code",
   "execution_count": 0,
   "metadata": {},
   "outputs": [],
   "source": [
    "import numpy as np\n",
    "from sklearn import svm\n",
    "from sklearn.linear_model import SGDClassifier\n",
    "from sklearn.model_selection import cross_val_score\n",
    "from sklearn.model_selection import ShuffleSplit\n",
    "from helpers import *"
   ]
  },
  {
   "cell_type": "code",
   "execution_count": 0,
   "metadata": {},
   "outputs": [],
   "source": [
    "#Create embeddings with glove_solution\n",
    "from glove_solution import main as glove_main\n",
    "glove_main()"
   ]
  },
  {
   "cell_type": "code",
   "execution_count": 0,
   "metadata": {},
   "outputs": [],
   "source": [
    "word_embeddings = np.load(\"embeddings.npy\")\n",
    "word_embeddings.shape"
   ]
  },
  {
   "cell_type": "code",
   "execution_count": 0,
   "metadata": {},
   "outputs": [],
   "source": [
    "words_list = words_list(\"vocab_cut.txt\")"
   ]
  },
  {
   "cell_type": "code",
   "execution_count": 0,
   "metadata": {},
   "outputs": [],
   "source": [
    "tweets_pos_vec = tweet_means(\"Datasets/twitter-datasets/train_pos.txt\", \\\n",
    "    word_embeddings, words_list, word_embeddings[0].shape[0])\n",
    "tweets_neg_vec = tweet_means(\"Datasets/twitter-datasets/train_neg.txt\", \\\n",
    "    word_embeddings, words_list, word_embeddings[0].shape[0])"
   ]
  },
  {
   "cell_type": "code",
   "execution_count": 0,
   "metadata": {},
   "outputs": [],
   "source": [
    "np.save('tweets_pos_vec', tweets_pos_vec)\n",
    "np.save('tweets_neg_vec', tweets_neg_vec)"
   ]
  },
  {
   "cell_type": "markdown",
   "execution_count": null,
   "metadata": {},
   "outputs": [],
   "source": [
    "# TRAINING TIME"
   ]
  },
  {
   "cell_type": "code",
   "execution_count": null,
   "metadata": {},
   "outputs": [],
   "source": [
    "tweets_pos_vec = np.load('tweets_pos_vec.npy')\n",
    "tweets_neg_vec = np.load('tweets_neg_vec.npy')"
   ]
  },
  {
   "cell_type": "code",
   "execution_count": null,
   "metadata": {},
   "outputs": [],
   "source": [
    "#TO USE IF ALGO ASKS LABEL TO BE 1 AND -1\n",
    "X = np.concatenate((tweets_pos_vec, tweets_neg_vec))\n",
    "y = np.concatenate((np.ones((tweets_pos_vec.shape[0])), -1*np.ones((tweets_pos_vec.shape[0]))))"
   ]
  },
  {
   "cell_type": "code",
   "execution_count": 0,
   "metadata": {},
   "outputs": [],
   "source": [
    "#TO USE IF ALGO ASKS LABEL TO BE 1 AND -1\n",
    "X = np.concatenate((tweets_pos_vec, tweets_neg_vec))\n",
    "y = np.concatenate((np.ones((tweets_pos_vec.shape[0])), -1*np.ones((tweets_pos_vec.shape[0]))))"
   ]
  },
  {
   "cell_type": "code",
   "execution_count": null,
   "metadata": {},
   "outputs": [],
   "source": [
    "#NEED TO CHECK IF IT IS REALLY WHAT SCORING ASKS\n",
    "def accuracy(estimator, X, y):\n",
    "    return np.mean(y==estimator.predict(X))"
   ]
  },
  {
   "cell_type": "code",
   "execution_count": 20,
   "metadata": {},
   "outputs": [
    {
     "ename": "SyntaxError",
     "evalue": "positional argument follows keyword argument (<ipython-input-20-bcdad1a63b29>, line 4)",
     "output_type": "error",
     "traceback": [
      "\u001b[0;36m  File \u001b[0;32m\"<ipython-input-20-bcdad1a63b29>\"\u001b[0;36m, line \u001b[0;32m4\u001b[0m\n\u001b[0;31m    scores = cross_val_score(estimator=y, X, y, scoring=accuracy, cv=cv)\u001b[0m\n\u001b[0m                                         ^\u001b[0m\n\u001b[0;31mSyntaxError\u001b[0m\u001b[0;31m:\u001b[0m positional argument follows keyword argument\n"
     ]
    }
   ],
   "source": [
    "numpy.random.seed(42)\n",
    "clf = ???\n",
    "cv = ShuffleSplit(n_splits=5, test_size=0.3, random_state=42)\n",
    "scores = cross_val_score(estimator=clf, X, y, scoring=accuracy, cv=cv)"
   ]
  }
 ]
}