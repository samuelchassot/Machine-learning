{
 "cells": [
  {
   "cell_type": "markdown",
   "metadata": {},
   "source": [
    "# CNN implementation for Tweets Classification"
   ]
  },
  {
   "cell_type": "markdown",
   "metadata": {},
   "source": [
    "## Imports"
   ]
  },
  {
   "cell_type": "code",
   "execution_count": null,
   "metadata": {},
   "outputs": [],
   "source": [
    "import numpy as np\n",
    "\n",
    "import tensorflow as tf\n",
    "%tensorflow_version 2.x\n",
    "device_name = tf.test.gpu_device_name()\n",
    "if device_name != '/device:GPU:0':\n",
    "  #raise SystemError('GPU device not found')\n",
    "  print('No GPU Found')\n",
    "    \n",
    "import re"
   ]
  },
  {
   "cell_type": "markdown",
   "metadata": {},
   "source": [
    "# Helpers"
   ]
  },
  {
   "cell_type": "code",
   "execution_count": null,
   "metadata": {},
   "outputs": [],
   "source": [
    "def clean_kim_yoon(filename, unique):\n",
    "    \"\"\" Clean txt files using a similar algorithm as kim yoon's one \n",
    "    (see https://github.com/yoonkim/CNN_sentence)\n",
    "    \n",
    "    Removes duplicates if unique is set to True.\n",
    "    Splits known contractions. Ex : do -> do n't\n",
    "    \"\"\"\n",
    "    new_filename = filename.replace(\".txt\", \"_clean_kim_yoon.txt\")\n",
    "\n",
    "    prev_f = open(filename, \"r\")\n",
    "    new_f = open(new_filename, \"w+\")\n",
    "\n",
    "    if(unique):\n",
    "        tweets = list(set(prev_f.readlines()))\n",
    "    else:\n",
    "        tweets = prev_f.readlines()\n",
    "\n",
    "    for t in tweets:\n",
    "        t1 = re.sub(r\"\\'s\", \" \\'s\", t) \n",
    "        t1 = re.sub(r\"\\'ve\", \" \\'ve\", t1) \n",
    "        t1 = re.sub(r\"n\\'t\", \" n\\'t\", t1) \n",
    "        t1 = re.sub(r\"\\'re\", \" \\'re\", t1) \n",
    "        t1 = re.sub(r\"\\'d\", \" \\'d\", t1) \n",
    "        t1 = re.sub(r\"\\'ll\", \" \\'ll\", t1)\n",
    "        t1 = re.sub(r\"\\'m\", \" \\'m\", t1)\n",
    "        new_f.write(t1)\n",
    "\n",
    "    prev_f.close()\n",
    "    new_f.close()"
   ]
  }
 ],
 "metadata": {
  "kernelspec": {
   "display_name": "Python 3",
   "language": "python",
   "name": "python3"
  },
  "language_info": {
   "codemirror_mode": {
    "name": "ipython",
    "version": 3
   },
   "file_extension": ".py",
   "mimetype": "text/x-python",
   "name": "python",
   "nbconvert_exporter": "python",
   "pygments_lexer": "ipython3",
   "version": "3.7.5"
  }
 },
 "nbformat": 4,
 "nbformat_minor": 2
}
