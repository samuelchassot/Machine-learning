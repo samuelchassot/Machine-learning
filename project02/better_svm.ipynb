{
 "cells": [
  {
   "cell_type": "code",
   "execution_count": 1,
   "metadata": {},
   "outputs": [],
   "source": [
    "def warn(*args, **kwargs):\n",
    "    pass\n",
    "\n",
    "import warnings\n",
    "warnings.warn = warn\n",
    "\n",
    "from sklearn.feature_extraction.text import CountVectorizer as CV, TfidfVectorizer as TV\n",
    "from sklearn.svm import LinearSVC as SVM\n",
    "from sklearn.model_selection import train_test_split as TrTeS\n",
    "from sklearn.metrics import accuracy_score as AS\n",
    "from nltk.stem.porter import PorterStemmer as PS\n",
    "from nltk.stem import WordNetLemmatizer as WNL\n",
    "\n",
    "import re"
   ]
  },
  {
   "cell_type": "code",
   "execution_count": 2,
   "metadata": {},
   "outputs": [],
   "source": [
    "DATASET_PATH      = \"Datasets/\"\n",
    "DATASET_PATH_MORE = \"twitter-datasets/\"\n",
    "\n",
    "POS_DATASET  = \"train_pos\"\n",
    "NEG_DATASET  = \"train_neg\"\n",
    "\n",
    "FULL_DATASETS_EXT = \"_full\"\n",
    "EXT = \".txt\"\n",
    "\n",
    "TEST_FILE_ORIGINAL = \"test_data.txt\"\n",
    "\n",
    "SUBMISSION_FILE = \"submission.csv\""
   ]
  },
  {
   "cell_type": "code",
   "execution_count": 3,
   "metadata": {},
   "outputs": [],
   "source": [
    "def simple_clean(t):\n",
    "    t = t.replace(\"<user>\", \"\")\n",
    "    t = t.replace(\"<url>\", \"\")\n",
    "    t = t.replace(\"\\n\", \"\")\n",
    "    t = re.compile(\"[.;:!\\'?,\\\"()\\[\\]]\").sub(\"\", t.lower())\n",
    "    \n",
    "    return t\n",
    "    \n",
    "def clean(tweets):\n",
    "    return [simple_clean(t) for t in tweets]\n",
    "\n",
    "def read_tweets_file(pos=True, full=True):\n",
    "    path = DATASET_PATH+DATASET_PATH_MORE\n",
    "    \n",
    "    if pos:\n",
    "        path += POS_DATASET\n",
    "    else:\n",
    "        path += NEG_DATASET\n",
    "    \n",
    "    if full:\n",
    "        path += FULL_DATASETS_EXT\n",
    "    \n",
    "    path += EXT\n",
    "    \n",
    "    tweets = []\n",
    "    with open(path, 'r') as file:\n",
    "        for line in file:\n",
    "            tweets.append(line)\n",
    "    \n",
    "    return tweets\n",
    "\n",
    "def get_tweets(full=True):\n",
    "    return read_tweets_file(True,full), read_tweets_file(False,full)\n",
    "\n",
    "def get_submission_tweets():\n",
    "    tweets = []\n",
    "    with open(DATASET_PATH+TEST_FILE_ORIGINAL, 'r') as file:\n",
    "        for line in file:\n",
    "            tweets.append(\",\".join(line.split(\",\")[1:]))\n",
    "    \n",
    "    return tweets"
   ]
  },
  {
   "cell_type": "markdown",
   "metadata": {},
   "source": [
    "# simple"
   ]
  },
  {
   "cell_type": "code",
   "execution_count": 4,
   "metadata": {},
   "outputs": [],
   "source": [
    "pos, neg = get_tweets()\n",
    "pos, neg = clean(pos), clean(neg)\n",
    "tr       = pos+neg"
   ]
  },
  {
   "cell_type": "code",
   "execution_count": 5,
   "metadata": {},
   "outputs": [],
   "source": [
    "cv3 = CV(binary=True)\n",
    "cv3.fit(tr)\n",
    "\n",
    "tra = cv3.transform(tr)\n",
    "\n",
    "labels = [1 if i < len(pos) else -1 for i in range(len(pos)+len(neg))]\n",
    "\n",
    "tr_x, te_x, tr_labels, te_labels = TrTeS(tra, labels, train_size=0.75)"
   ]
  },
  {
   "cell_type": "code",
   "execution_count": 6,
   "metadata": {},
   "outputs": [
    {
     "name": "stdout",
     "output_type": "stream",
     "text": [
      "Accuracy for 0.01: 0.8193968\n",
      "Accuracy for 0.05: 0.8227648\n",
      "Accuracy for 0.25: 0.82264\n",
      "Accuracy for 0.5: 0.8213968\n",
      "Accuracy for 1: 0.8182656\n"
     ]
    }
   ],
   "source": [
    "for c in [0.01, 0.05, 0.25, 0.5, 1]:\n",
    "    svm = SVM(C=c, max_iter=60)\n",
    "    svm.fit(tr_x, tr_labels)\n",
    "    print (\"Accuracy for {}: {}\".format(c, AS(te_labels, svm.predict(te_x))))"
   ]
  },
  {
   "cell_type": "markdown",
   "metadata": {},
   "source": [
    "# 2-grams"
   ]
  },
  {
   "cell_type": "code",
   "execution_count": 7,
   "metadata": {},
   "outputs": [],
   "source": [
    "cv3 = CV(binary=True, ngram_range=(1, 2))\n",
    "cv3.fit(tr)\n",
    "\n",
    "tra = cv3.transform(tr)\n",
    "\n",
    "labels = [1 if i < len(pos) else -1 for i in range(len(pos)+len(neg))]\n",
    "\n",
    "tr_x, te_x, tr_labels, te_labels = TrTeS(tra, labels, train_size=0.75)"
   ]
  },
  {
   "cell_type": "code",
   "execution_count": 8,
   "metadata": {},
   "outputs": [
    {
     "name": "stdout",
     "output_type": "stream",
     "text": [
      "Accuracy for 0.01: 0.8511136\n",
      "Accuracy for 0.05: 0.8555104\n",
      "Accuracy for 0.25: 0.849704\n",
      "Accuracy for 0.5: 0.8448864\n",
      "Accuracy for 1: 0.839328\n"
     ]
    }
   ],
   "source": [
    "for c in [0.01, 0.05, 0.25, 0.5, 1]:\n",
    "    svm = SVM(C=c, max_iter=60)\n",
    "    svm.fit(tr_x, tr_labels)\n",
    "    print (\"Accuracy for {}: {}\".format(c, AS(te_labels, svm.predict(te_x))))"
   ]
  },
  {
   "cell_type": "markdown",
   "metadata": {},
   "source": [
    "# 3-grams"
   ]
  },
  {
   "cell_type": "code",
   "execution_count": 9,
   "metadata": {},
   "outputs": [],
   "source": [
    "cv3 = CV(binary=True, ngram_range=(1, 3))\n",
    "cv3.fit(tr)\n",
    "\n",
    "tra = cv3.transform(tr)\n",
    "\n",
    "labels = [1 if i < len(pos) else -1 for i in range(len(pos)+len(neg))]\n",
    "\n",
    "tr_x, te_x, tr_labels, te_labels = TrTeS(tra, labels, train_size=0.75)"
   ]
  },
  {
   "cell_type": "code",
   "execution_count": 10,
   "metadata": {},
   "outputs": [
    {
     "name": "stdout",
     "output_type": "stream",
     "text": [
      "Accuracy for 0.01: 0.8579552\n",
      "Accuracy for 0.05: 0.8612224\n",
      "Accuracy for 0.25: 0.8570288\n",
      "Accuracy for 0.5: 0.854112\n",
      "Accuracy for 1: 0.8507808\n"
     ]
    }
   ],
   "source": [
    "for c in [0.01, 0.05, 0.25, 0.5, 1]:\n",
    "    svm = SVM(C=c, max_iter=60)\n",
    "    svm.fit(tr_x, tr_labels)\n",
    "    print (\"Accuracy for {}: {}\".format(c, AS(te_labels, svm.predict(te_x))))"
   ]
  },
  {
   "cell_type": "markdown",
   "metadata": {},
   "source": [
    "# 4-grams"
   ]
  },
  {
   "cell_type": "code",
   "execution_count": 11,
   "metadata": {},
   "outputs": [],
   "source": [
    "cv3 = CV(binary=True, ngram_range=(1, 4))\n",
    "cv3.fit(tr)\n",
    "\n",
    "tra = cv3.transform(tr)\n",
    "\n",
    "labels = [1 if i < len(pos) else -1 for i in range(len(pos)+len(neg))]\n",
    "\n",
    "tr_x, te_x, tr_labels, te_labels = TrTeS(tra, labels, train_size=0.75)"
   ]
  },
  {
   "cell_type": "code",
   "execution_count": 12,
   "metadata": {},
   "outputs": [
    {
     "name": "stdout",
     "output_type": "stream",
     "text": [
      "Accuracy for 0.01: 0.858704\n",
      "Accuracy for 0.05: 0.8614944\n",
      "Accuracy for 0.25: 0.8579728\n",
      "Accuracy for 0.5: 0.8556976\n",
      "Accuracy for 1: 0.853192\n"
     ]
    }
   ],
   "source": [
    "for c in [0.01, 0.05, 0.25, 0.5, 1]:\n",
    "    svm = SVM(C=c, max_iter=60)\n",
    "    svm.fit(tr_x, tr_labels)\n",
    "    print (\"Accuracy for {}: {}\".format(c, AS(te_labels, svm.predict(te_x))))"
   ]
  },
  {
   "cell_type": "markdown",
   "metadata": {},
   "source": [
    "# TF-IDF"
   ]
  },
  {
   "cell_type": "code",
   "execution_count": 13,
   "metadata": {},
   "outputs": [],
   "source": [
    "tv3 = TV(binary=True)\n",
    "tv3.fit(tr)\n",
    "\n",
    "tra = cv3.transform(tr)\n",
    "\n",
    "labels = [1 if i < len(pos) else -1 for i in range(len(pos)+len(neg))]\n",
    "\n",
    "tr_x, te_x, tr_labels, te_labels = TrTeS(tra, labels, train_size=0.75)"
   ]
  },
  {
   "cell_type": "code",
   "execution_count": 14,
   "metadata": {},
   "outputs": [
    {
     "name": "stdout",
     "output_type": "stream",
     "text": [
      "Accuracy for 0.01: 0.8581696\n",
      "Accuracy for 0.05: 0.861096\n",
      "Accuracy for 0.25: 0.8576544\n",
      "Accuracy for 0.5: 0.8552032\n",
      "Accuracy for 1: 0.8523808\n"
     ]
    }
   ],
   "source": [
    "for c in [0.01, 0.05, 0.25, 0.5, 1]:\n",
    "    svm = SVM(C=c, max_iter=60)\n",
    "    svm.fit(tr_x, tr_labels)\n",
    "    print (\"Accuracy for {}: {}\".format(c, AS(te_labels, svm.predict(te_x))))"
   ]
  }
 ],
 "metadata": {
  "kernelspec": {
   "display_name": "Python 3",
   "language": "python",
   "name": "python3"
  },
  "language_info": {
   "codemirror_mode": {
    "name": "ipython",
    "version": 3
   },
   "file_extension": ".py",
   "mimetype": "text/x-python",
   "name": "python",
   "nbconvert_exporter": "python",
   "pygments_lexer": "ipython3",
   "version": "3.8.0"
  }
 },
 "nbformat": 4,
 "nbformat_minor": 2
}
