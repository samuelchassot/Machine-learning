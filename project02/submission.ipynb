{
 "cells": [
  {
   "cell_type": "code",
   "execution_count": 1,
   "metadata": {},
   "outputs": [],
   "source": [
    "def warn(*args, **kwargs):\n",
    "    pass\n",
    "\n",
    "import warnings\n",
    "warnings.warn = warn\n",
    "\n",
    "from sklearn.feature_extraction.text import CountVectorizer as CV\n",
    "from sklearn.svm import LinearSVC as SVM\n",
    "from sklearn.model_selection import train_test_split as TrTeS\n",
    "from sklearn.metrics import accuracy_score as AS\n",
    "\n",
    "import re"
   ]
  },
  {
   "cell_type": "code",
   "execution_count": 2,
   "metadata": {},
   "outputs": [],
   "source": [
    "DATASET_PATH      = \"Datasets/\"\n",
    "DATASET_PATH_MORE = \"twitter-datasets/\"\n",
    "\n",
    "POS_DATASET  = \"train_pos\"\n",
    "NEG_DATASET  = \"train_neg\"\n",
    "\n",
    "FULL_DATASETS_EXT = \"_full\"\n",
    "EXT = \".txt\"\n",
    "\n",
    "TEST_FILE_ORIGINAL = \"test_data.txt\""
   ]
  },
  {
   "cell_type": "code",
   "execution_count": 3,
   "metadata": {},
   "outputs": [],
   "source": [
    "def simple_clean(t):\n",
    "    t = t.replace(\"<user>\", \"\")\n",
    "    t = t.replace(\"<url>\", \"\")\n",
    "    t = t.replace(\"\\n\", \"\")\n",
    "    t = re.compile(\"[.;:!\\'?,\\\"()\\[\\]]\").sub(\"\", t.lower())\n",
    "    \n",
    "    return t\n",
    "    \n",
    "def clean(tweets):\n",
    "    return [simple_clean(t) for t in tweets]\n",
    "\n",
    "def read_tweets_file(pos=True, full=True):\n",
    "    path = DATASET_PATH+DATASET_PATH_MORE\n",
    "    \n",
    "    if pos:\n",
    "        path += POS_DATASET\n",
    "    else:\n",
    "        path += NEG_DATASET\n",
    "    \n",
    "    if full:\n",
    "        path += FULL_DATASETS_EXT\n",
    "    \n",
    "    path += EXT\n",
    "    \n",
    "    tweets = []\n",
    "    with open(path, 'r') as file:\n",
    "        for line in file:\n",
    "            tweets.append(line)\n",
    "    \n",
    "    return tweets\n",
    "\n",
    "def get_tweets(full=True):\n",
    "    return read_tweets_file(True,full), read_tweets_file(False,full)\n",
    "\n",
    "def get_submission_tweets():\n",
    "    tweets = []\n",
    "    with open(DATASET_PATH+TEST_FILE_ORIGINAL, 'r') as file:\n",
    "        for line in file:\n",
    "            tweets.append(\",\".join(line.split(\",\")[1:]))\n",
    "    \n",
    "    return tweets\n",
    "\n",
    "def save_submission(filename, predictions):\n",
    "    with open(DATASET_PATH+filename, 'w') as file:\n",
    "        file.write(\"Id,Prediction\\n\")\n",
    "        c = 1\n",
    "        for p in predictions:\n",
    "            file.write(\"{},{}\\n\".format(c,p))\n",
    "            c += 1"
   ]
  },
  {
   "cell_type": "code",
   "execution_count": 4,
   "metadata": {},
   "outputs": [],
   "source": [
    "pos, neg = get_tweets()\n",
    "te       = get_submission_tweets()\n",
    "pos, neg = clean(pos), clean(neg)\n",
    "te       = clean(te)\n",
    "tr       = pos+neg\n",
    "\n",
    "labels = [1 if i < len(pos) else -1 for i in range(len(pos)+len(neg))]"
   ]
  },
  {
   "cell_type": "code",
   "execution_count": 5,
   "metadata": {},
   "outputs": [],
   "source": [
    "cv3 = CV(binary=True, ngram_range=(1, 3))\n",
    "cv3.fit(tr)\n",
    "\n",
    "tra3 = cv3.transform(tr)\n",
    "tes3 = cv3.transform(te)\n",
    "\n",
    "svm3 = SVM(C=0.05, max_iter=1000)\n",
    "svm3.fit(tra3, labels)\n",
    "\n",
    "predictions3 = svm3.predict(tes3)"
   ]
  },
  {
   "cell_type": "code",
   "execution_count": 6,
   "metadata": {},
   "outputs": [],
   "source": [
    "save_submission(\"svm3.csv\", predictions3)"
   ]
  },
  {
   "cell_type": "code",
   "execution_count": 7,
   "metadata": {},
   "outputs": [],
   "source": [
    "cv4 = CV(binary=True, ngram_range=(1, 4))\n",
    "cv4.fit(tr)\n",
    "\n",
    "tra4 = cv4.transform(tr)\n",
    "tes4 = cv4.transform(te)\n",
    "\n",
    "svm4 = SVM(C=0.06, max_iter=1000)\n",
    "svm4.fit(tra4, labels)\n",
    "\n",
    "predictions4 = svm4.predict(tes4)"
   ]
  },
  {
   "cell_type": "code",
   "execution_count": 8,
   "metadata": {},
   "outputs": [],
   "source": [
    "save_submission(\"svm4.csv\", predictions4)"
   ]
  }
 ],
 "metadata": {
  "kernelspec": {
   "display_name": "Python 3",
   "language": "python",
   "name": "python3"
  },
  "language_info": {
   "codemirror_mode": {
    "name": "ipython",
    "version": 3
   },
   "file_extension": ".py",
   "mimetype": "text/x-python",
   "name": "python",
   "nbconvert_exporter": "python",
   "pygments_lexer": "ipython3",
   "version": "3.8.0"
  }
 },
 "nbformat": 4,
 "nbformat_minor": 2
}
