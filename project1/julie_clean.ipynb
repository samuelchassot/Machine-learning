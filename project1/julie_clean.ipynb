{
 "cells": [
  {
   "cell_type": "code",
   "execution_count": 1,
   "metadata": {},
   "outputs": [],
   "source": [
    "%matplotlib inline\n",
    "import numpy as np\n",
    "import matplotlib.pyplot as plt\n",
    "%load_ext autoreload\n",
    "%autoreload 2"
   ]
  },
  {
   "cell_type": "code",
   "execution_count": 2,
   "metadata": {},
   "outputs": [],
   "source": [
    "from proj1_helpers import *\n",
    "from implementations import *\n",
    "DATA_TRAIN_PATH = 'data/train.csv'\n",
    "y, tX, ids = load_csv_data(DATA_TRAIN_PATH)\n",
    "DATA_TEST_PATH = 'data/test.csv'\n",
    "_, tX_test, ids_test = load_csv_data(DATA_TEST_PATH)"
   ]
  },
  {
   "cell_type": "code",
   "execution_count": 3,
   "metadata": {},
   "outputs": [],
   "source": [
    "def build_k_indices(y, k_fold, seed):\n",
    "    \"\"\"build k indices for k-fold.\"\"\"\n",
    "    num_row = y.shape[0]\n",
    "    interval = int(num_row / k_fold)\n",
    "    np.random.seed(seed)\n",
    "    indices = np.random.permutation(num_row)\n",
    "    k_indices = [indices[k * interval: (k + 1) * interval]\n",
    "                 for k in range(k_fold)]\n",
    "    return np.array(k_indices)"
   ]
  },
  {
   "cell_type": "code",
   "execution_count": 4,
   "metadata": {},
   "outputs": [],
   "source": [
    "def cross_validation_least_squares_GD(y, tx, initial_w, max_iters, gammas, k_fold, seed):\n",
    "    \"\"\"Do cross-validation to find the best gamma to use with least_squares_GD\"\"\"\n",
    "    # split data in k fold\n",
    "    k_indices = build_k_indices(y, k_fold, seed)\n",
    "    \n",
    "    mse_tr = []\n",
    "    mse_te = []\n",
    "    \n",
    "    weights = initial_w\n",
    "    \n",
    "    for gamma in gammas:\n",
    "        tr_tmp = []\n",
    "        te_tmp = []\n",
    "        for k in range(k_fold):\n",
    "            # divide the data into training set and testing set depending on k\n",
    "            tr_indice = k_indices[~(np.arange(k_indices.shape[0]) == k)].reshape(-1)\n",
    "            test_tx = tx[k_indices[k]]\n",
    "            test_y = y[k_indices[k]]\n",
    "            train_tx = tx[tr_indice]\n",
    "            train_y = y[tr_indice]\n",
    "            \n",
    "            #Train the set and computes the losses\n",
    "            weights, loss_tr = least_squares_GD(train_y, train_tx, initial_w, max_iters, gamma)\n",
    "            loss_te = compute_loss(mse, test_y, test_tx, weights)\n",
    "            \n",
    "            tr_tmp.append(loss_tr)\n",
    "            te_tmp.append(loss_te)\n",
    "        mse_tr.append(np.mean(tr_tmp))\n",
    "        mse_te.append(np.mean(te_tmp))\n",
    "        \n",
    "        print(mse_te)\n",
    "        \n",
    "    gamma = gammas[np.argmin(mse_te)]\n",
    "    weights_final, loss = least_squares_GD(y, tx, initial_w, max_iters, gamma)\n",
    "        \n",
    "    return mse_tr, mse_te, gamma, weights_final, loss"
   ]
  },
  {
   "cell_type": "code",
   "execution_count": null,
   "metadata": {},
   "outputs": [],
   "source": [
    "def cross_validation_logistic_regression(y, tx, initial_w, max_iters, gammas, k_fold, seed):\n",
    "    \"\"\"Do cross-validation to find the best gamma to use with logistic regression\"\"\"\n",
    "    # split data in k fold\n",
    "    k_indices = build_k_indices(y, k_fold, seed)\n",
    "    \n",
    "    loss_sigmoid_tr = []\n",
    "    loss_sigmoid_te = []\n",
    "    \n",
    "    weights = initial_w\n",
    "    \n",
    "    for gamma in gammas:\n",
    "        tr_tmp = []\n",
    "        te_tmp = []\n",
    "        for k in range(k_fold):\n",
    "            # divide the data into training set and testing set depending on k\n",
    "            tr_indice = k_indices[~(np.arange(k_indices.shape[0]) == k)].reshape(-1)\n",
    "            test_tx = tx[k_indices[k]]\n",
    "            test_y = y[k_indices[k]]\n",
    "            train_tx = tx[tr_indice]\n",
    "            train_y = y[tr_indice]\n",
    "            \n",
    "            #Train the set and computes the losses\n",
    "            weights, loss_tr = logistic_regressions(train_y, train_tx, initial_w, max_iters, gamma)\n",
    "            loss_te = compute_loss_sigmoid(test_y, test_tx, weights)\n",
    "            \n",
    "            tr_tmp.append(loss_tr)\n",
    "            te_tmp.append(loss_te)\n",
    "        loss_sigmoid_tr.append(np.mean(tr_tmp))\n",
    "        loss_sigmoid_te.append(np.mean(te_tmp))\n",
    "        \n",
    "    gamma = gammas[np.argmin(loss_sigmoid_te)]\n",
    "    weights_final, loss_sigmoid = logistic_regression(y, tx, initial_w, max_iters, gamma)\n",
    "        \n",
    "    return loss_sigmoid_tr, loss_sigmoid_te, gamma, weights_final, loss_sigmoid"
   ]
  },
  {
   "cell_type": "code",
   "execution_count": 7,
   "metadata": {},
   "outputs": [
    {
     "name": "stdout",
     "output_type": "stream",
     "text": [
      "[0.4121670035023174]\n",
      "[0.4121670035023174, 0.40661847241528604]\n",
      "[0.4121670035023174, 0.40661847241528604, 0.40369759951339856]\n",
      "[0.4121670035023174, 0.40661847241528604, 0.40369759951339856, 0.4017868157144959]\n",
      "[0.4121670035023174, 0.40661847241528604, 0.40369759951339856, 0.4017868157144959, 0.4003942713904026]\n",
      "[0.4121670035023174, 0.40661847241528604, 0.40369759951339856, 0.4017868157144959, 0.4003942713904026, 0.3992821847490182]\n",
      "[0.4121670035023174, 0.40661847241528604, 0.40369759951339856, 0.4017868157144959, 0.4003942713904026, 0.3992821847490182, 0.3983287727459971]\n",
      "[0.4121670035023174, 0.40661847241528604, 0.40369759951339856, 0.4017868157144959, 0.4003942713904026, 0.3992821847490182, 0.3983287727459971, 0.3974707695719626]\n",
      "[0.4121670035023174, 0.40661847241528604, 0.40369759951339856, 0.4017868157144959, 0.4003942713904026, 0.3992821847490182, 0.3983287727459971, 0.3974707695719626, 3065736051812.7295]\n",
      "[0.4121963988553795, 0.40663859579732325, 0.40371304333868474, 0.40179821384966086, 0.40040299625202885, 0.3992896498718502, 0.3983360595714678, 0.39747859907111754, 2618700075238.782]\n",
      "[0.4121670035023174, 0.40661847241528604, 0.40369759951339856, 0.4017868157144959, 0.4003942713904026, 0.3992821847490182, 0.3983287727459971, 0.3974707695719626, 3065736051812.7295]\n",
      "0.08\n",
      "[ 2.01529816e-01 -3.13245817e-01 -9.71860123e-02  9.57579211e-02\n",
      " -5.00990182e-02  3.14455307e-01 -5.69136400e-02 -4.06955875e-02\n",
      " -8.04695795e-02 -5.87110940e-03 -4.65201789e-02 -3.53624766e-02\n",
      " -5.15552234e-02  9.13930306e-02 -4.08188243e-02 -4.09681990e-02\n",
      " -9.79356681e-02 -4.08254674e-02 -4.04662858e-02 -2.25714007e-02\n",
      " -4.04129868e-02 -5.14546126e-02 -4.20193597e-02  4.95255657e-02\n",
      "  2.01923833e-04  1.85947741e-04 -8.26347812e-02 -5.22406463e-02\n",
      " -5.23886764e-02 -8.08045211e-02]\n",
      "0.3974815804567615\n"
     ]
    }
   ],
   "source": [
    "#least_squares_GD cross-validation\n",
    "max_iters = 200\n",
    "k_fold = 5\n",
    "seed = 42\n",
    "\n",
    "tX_stdrzed, mean, std = standardize(tX)\n",
    "\n",
    "initial_w = np.array([0.4 for i in range(tX_stdrzed.shape[1])])\n",
    "\n",
    "gammas = np.array([0.01, 0.02, 0.03, 0.04, 0.05, 0.06, 0.07, 0.08, 0.09])\n",
    "mse_tr_least_squares_GD, mse_te_least_squares_GD, gamma, weights, loss = \\\n",
    "    cross_validation_least_squares_GD(y, tX_stdrzed, initial_w, max_iters, gammas, k_fold, seed)\n",
    "\n",
    "print(mse_tr_least_squares_GD)\n",
    "print(mse_te_least_squares_GD)\n",
    "print(gamma)\n",
    "print(weights)\n",
    "print(loss)\n",
    "\n",
    "tX_test_stdrzd = (tX_test-mean)/std\n",
    "\n",
    "y_pred = predict_labels(weights, tX_test_stdrzd)\n",
    "OUTPUT_PATH = 'data/output_least_squares_GD.csv'\n",
    "create_csv_submission(ids_test, y_pred, OUTPUT_PATH)\n",
    "\n",
    "#0.697 on AICrowd initial_w = np.array([0.4 for i in range(tX_stdrzed.shape[1])])\n",
    "#0.693 on AICrowd initial_w = np.array([0.0 for i in range(tX_stdrzed.shape[1])]) even if loss smaller"
   ]
  },
  {
   "cell_type": "code",
   "execution_count": null,
   "metadata": {},
   "outputs": [],
   "source": []
  }
 ],
 "metadata": {
  "kernelspec": {
   "display_name": "Python 3",
   "language": "python",
   "name": "python3"
  },
  "language_info": {
   "codemirror_mode": {
    "name": "ipython",
    "version": 3
   },
   "file_extension": ".py",
   "mimetype": "text/x-python",
   "name": "python",
   "nbconvert_exporter": "python",
   "pygments_lexer": "ipython3",
   "version": "3.7.4"
  }
 },
 "nbformat": 4,
 "nbformat_minor": 2
}
