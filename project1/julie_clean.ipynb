{
 "cells": [
  {
   "cell_type": "code",
   "execution_count": 1,
   "metadata": {},
   "outputs": [],
   "source": [
    "%matplotlib inline\n",
    "import numpy as np\n",
    "import matplotlib.pyplot as plt\n",
    "%load_ext autoreload\n",
    "%autoreload 2"
   ]
  },
  {
   "cell_type": "code",
   "execution_count": 2,
   "metadata": {},
   "outputs": [],
   "source": [
    "from proj1_helpers import *\n",
    "from implementations import *\n",
    "DATA_TRAIN_PATH = 'data/train.csv'\n",
    "y, tX, ids = load_csv_data(DATA_TRAIN_PATH)\n",
    "DATA_TEST_PATH = 'data/test.csv'\n",
    "_, tX_test, ids_test = load_csv_data(DATA_TEST_PATH)"
   ]
  },
  {
   "cell_type": "code",
   "execution_count": 3,
   "metadata": {},
   "outputs": [],
   "source": [
    "def build_k_indices(y, k_fold, seed):\n",
    "    \"\"\"build k indices for k-fold.\"\"\"\n",
    "    num_row = y.shape[0]\n",
    "    interval = int(num_row / k_fold)\n",
    "    np.random.seed(seed)\n",
    "    indices = np.random.permutation(num_row)\n",
    "    k_indices = [indices[k * interval: (k + 1) * interval]\n",
    "                 for k in range(k_fold)]\n",
    "    return np.array(k_indices)"
   ]
  },
  {
   "cell_type": "code",
   "execution_count": 4,
   "metadata": {},
   "outputs": [],
   "source": [
    "def map_label_01(y):\n",
    "    y_logistic = []\n",
    "    for elem in y:\n",
    "        if elem == -1:\n",
    "            y_logistic.append(0)\n",
    "        else:\n",
    "            y_logistic.append(1)\n",
    "            \n",
    "    return np.asarray(y_logistic)"
   ]
  },
  {
   "cell_type": "code",
   "execution_count": 5,
   "metadata": {},
   "outputs": [],
   "source": [
    "def cross_validation_least_squares_GD(y, tx, initial_w, max_iters, gammas, k_fold, seed):\n",
    "    \"\"\"Do cross-validation to find the best gamma to use with least_squares_GD\"\"\"\n",
    "    # split data in k fold\n",
    "    k_indices = build_k_indices(y, k_fold, seed)\n",
    "    \n",
    "    mse_tr = []\n",
    "    mse_te = []\n",
    "    \n",
    "    weights = initial_w\n",
    "    \n",
    "    for gamma in gammas:\n",
    "        tr_tmp = []\n",
    "        te_tmp = []\n",
    "        for k in range(k_fold):\n",
    "            # divide the data into training set and testing set depending on k\n",
    "            tr_indice = k_indices[~(np.arange(k_indices.shape[0]) == k)].reshape(-1)\n",
    "            test_tx = tx[k_indices[k]]\n",
    "            test_y = y[k_indices[k]]\n",
    "            train_tx = tx[tr_indice]\n",
    "            train_y = y[tr_indice]\n",
    "            \n",
    "            #Train the set and computes the losses\n",
    "            weights, loss_tr = least_squares_GD(train_y, train_tx, initial_w, max_iters, gamma)\n",
    "            loss_te = compute_loss(mse, test_y, test_tx, weights)\n",
    "            \n",
    "            tr_tmp.append(loss_tr)\n",
    "            te_tmp.append(loss_te)\n",
    "        mse_tr.append(np.mean(tr_tmp))\n",
    "        mse_te.append(np.mean(te_tmp))\n",
    "\n",
    "    gamma = gammas[np.argmin(mse_te)]\n",
    "    weights_final, loss = least_squares_GD(y, tx, initial_w, max_iters, gamma)\n",
    "        \n",
    "    return mse_tr, mse_te, gamma, weights_final, loss"
   ]
  },
  {
   "cell_type": "code",
   "execution_count": 10,
   "metadata": {},
   "outputs": [],
   "source": [
    "def cross_validation_logistic_regression(y, tx, initial_w, max_iters, gammas, k_fold, seed):\n",
    "    \"\"\"Do cross-validation to find the best gamma to use with logistic regression\"\"\"\n",
    "    # split data in k fold\n",
    "    k_indices = build_k_indices(y, k_fold, seed)\n",
    "    \n",
    "    loss_sigmoid_tr = []\n",
    "    loss_sigmoid_te = []\n",
    "    \n",
    "    weights = initial_w\n",
    "    \n",
    "    for gamma in gammas:\n",
    "        tr_tmp = []\n",
    "        te_tmp = []\n",
    "        for k in range(k_fold):\n",
    "            # divide the data into training set and testing set depending on k\n",
    "            tr_indice = k_indices[~(np.arange(k_indices.shape[0]) == k)].reshape(-1)\n",
    "            test_tx = tx[k_indices[k]]\n",
    "            test_y = y[k_indices[k]]\n",
    "            train_tx = tx[tr_indice]\n",
    "            train_y = y[tr_indice]\n",
    "            \n",
    "            #Train the set and computes the losses\n",
    "            weights, loss_tr = logistic_regression(train_y, train_tx, initial_w, max_iters, gamma)\n",
    "            loss_te = calculate_loss_sigmoid(test_y, test_tx, weights)\n",
    "            \n",
    "            tr_tmp.append(loss_tr)\n",
    "            te_tmp.append(loss_te)\n",
    "        loss_sigmoid_tr.append(np.mean(tr_tmp))\n",
    "        loss_sigmoid_te.append(np.mean(te_tmp))\n",
    "        \n",
    "    gamma = gammas[np.argmin(loss_sigmoid_te)]\n",
    "    weights_final, loss_sigmoid = logistic_regression(y, tx, initial_w, max_iters, gamma)\n",
    "        \n",
    "    return loss_sigmoid_tr, loss_sigmoid_te, gamma, weights_final, loss_sigmoid"
   ]
  },
  {
   "cell_type": "code",
   "execution_count": null,
   "metadata": {},
   "outputs": [],
   "source": [
    "#least_squares_GD cross-validation\n",
    "max_iters = 200\n",
    "k_fold = 5\n",
    "seed = 42\n",
    "\n",
    "tX_stdrzed, mean, std = standardize(tX)\n",
    "\n",
    "initial_w = np.array([0.4 for i in range(tX_stdrzed.shape[1])])\n",
    "\n",
    "gammas_lsgd = np.array([0.01, 0.02, 0.03, 0.04, 0.05, 0.06, 0.07, 0.08, 0.09])\n",
    "mse_tr_least_squares_GD, mse_te_least_squares_GD, gamma, weights, loss = \\\n",
    "    cross_validation_least_squares_GD(y, tX_stdrzed, initial_w, max_iters, gammas_lsgd, k_fold, seed)\n",
    "\n",
    "print(mse_tr_least_squares_GD)\n",
    "print(mse_te_least_squares_GD)\n",
    "print(gamma)\n",
    "print(weights)\n",
    "print(loss)\n",
    "\n",
    "tX_test_stdrzd = (tX_test-mean)/std\n",
    "\n",
    "y_pred = predict_labels(weights, tX_test_stdrzd)\n",
    "OUTPUT_PATH = 'data/output_least_squares_GD.csv'\n",
    "create_csv_submission(ids_test, y_pred, OUTPUT_PATH)\n",
    "\n",
    "#0.697 on AICrowd initial_w = np.array([0.4 for i in range(tX_stdrzed.shape[1])]) \n",
    "#0.693 on AICrowd initial_w = np.array([0.0 for i in range(tX_stdrzed.shape[1])]) even if loss smaller"
   ]
  },
  {
   "cell_type": "code",
   "execution_count": 13,
   "metadata": {},
   "outputs": [
    {
     "name": "stdout",
     "output_type": "stream",
     "text": [
      "[37652.404918522974]\n",
      "[37652.404918522974, 29027.774020060468]\n",
      "[37652.404918522974, 29027.774020060468, 27764.098075652997]\n",
      "[37652.404918522974, 29027.774020060468, 27764.098075652997, 26830.30497283832]\n",
      "[37652.404918522974, 29027.774020060468, 27764.098075652997, 26830.30497283832, 40424.460016898876]\n",
      "[150475.07846440357, 116091.83349352962, 111050.11129959478, 107321.8588723096, 175048.16703055985]\n",
      "[37652.404918522974, 29027.774020060468, 27764.098075652997, 26830.30497283832, 40424.460016898876]\n",
      "1e-06\n",
      "[  0.36107142 -13.33658378  -1.35496582   0.61783235   0.01961971\n",
      "   1.04982336  -0.11726647   0.89216496  -0.57865051   2.93050219\n",
      "   0.07234096   1.13344787   0.04818739  10.01062522   0.50332153\n",
      "   0.46376109  -0.86057156   0.49976145   0.56555557   2.7359336\n",
      "   0.54131802  -0.85535579   0.43301581  -0.12296951   0.11121371\n",
      "   0.12505995  -0.93148483  -0.03097258  -0.05234122  -5.18514794]\n",
      "132212.66176250146\n"
     ]
    }
   ],
   "source": [
    "#logistic_regression cross-validation\n",
    "max_iters = 1000\n",
    "k_fold = 5\n",
    "seed = 42\n",
    "\n",
    "tX_stdrzed, mean, std = standardize(tX)\n",
    "y_logistic = map_label_01(y)\n",
    "        \n",
    "initial_w = np.array([0.5 for i in range(tX_stdrzed.shape[1])])\n",
    "gammas_logistic = np.array([0.00000001, 0.0000001, 0.0000005, 0.000001, 0.000005])\n",
    "\n",
    "losses_tr_logistic_regression, losses_te_logistic_regression, gamma, weights, loss = \\\n",
    "    cross_validation_logistic_regression(y_logistic, tX_stdrzed, initial_w, max_iters, gammas_logistic, k_fold, seed)\n",
    "\n",
    "print(losses_tr_logistic_regression)\n",
    "print(losses_te_logistic_regression)\n",
    "print(gamma)\n",
    "print(weights)\n",
    "print(loss)\n",
    "\n",
    "tX_test_stdrzd = (tX_test-mean)/std\n",
    "\n",
    "y_pred = predict_labels(weights, tX_test_stdrzd)\n",
    "OUTPUT_PATH = 'data/output_logistic_regression.csv'\n",
    "create_csv_submission(ids_test, y_pred, OUTPUT_PATH)\n",
    "\n",
    "#0.739 on AICrowd"
   ]
  },
  {
   "cell_type": "code",
   "execution_count": 22,
   "metadata": {},
   "outputs": [
    {
     "name": "stdout",
     "output_type": "stream",
     "text": [
      "[0.4829444274069787, 0.3785810578920398, 0.37585500287088003, 0.37569930267400325, 0.37556759611875135, 0.6061135886916136]\n",
      "[0.4823999202585222, 0.37856564679284066, 0.37588735835461606, 0.37573361444383624, 0.37560345237880965, 0.6036864256436408]\n",
      "0.12\n",
      "[-0.67353872 -0.01935749  0.08089317  0.10270136 -0.09230546  0.14814314\n",
      "  0.05376114  0.10372283  0.42233461  0.06302186  0.06079259  0.012026\n",
      "  0.0630258   0.06600923  0.06210411  0.06446594 -0.03588135  0.07445922\n",
      " -0.15745303]\n",
      "0.37557229648318674\n"
     ]
    }
   ],
   "source": [
    "#least_squares_GD cross-validation with cleaned data\n",
    "max_iters = 200\n",
    "k_fold = 5\n",
    "seed = 42\n",
    "\n",
    "tX_stdrzed_cleaned, mean, std = standardize(remove_wrong_columns(tX))\n",
    "\n",
    "initial_w = np.array([0.4 for i in range(tX_stdrzed_cleaned.shape[1])]) \n",
    "gammas_lsgd_clean = np.array([0.01, 0.05, 0.1, 0.11, 0.12, 0.128])\n",
    "\n",
    "mse_tr_least_squares_GD_clean, mse_te_least_squares_GD_clean, gamma, weights, loss = \\\n",
    "    cross_validation_least_squares_GD(y, tX_stdrzed_cleaned, initial_w, max_iters, gammas_lsgd_clean, k_fold, seed)\n",
    "\n",
    "print(mse_tr_least_squares_GD_clean)\n",
    "print(mse_te_least_squares_GD_clean)\n",
    "print(gamma)\n",
    "print(weights)\n",
    "print(loss)\n",
    "\n",
    "tX_test_stdrzd_cleaned = (remove_wrong_columns(tX_test)-mean)/std\n",
    "\n",
    "y_pred = predict_labels(weights, tX_test_stdrzd_cleaned)\n",
    "OUTPUT_PATH = 'data/output_least_squares_GD_clean.csv'\n",
    "create_csv_submission(ids_test, y_pred, OUTPUT_PATH)\n",
    "\n",
    "#0.72 on AICrowd"
   ]
  },
  {
   "cell_type": "code",
   "execution_count": 28,
   "metadata": {},
   "outputs": [
    {
     "name": "stdout",
     "output_type": "stream",
     "text": [
      "[nan]\n",
      "[nan, 27711.668125686665]\n",
      "[nan, 27711.668125686665, 27440.823026442493]\n"
     ]
    },
    {
     "ename": "KeyboardInterrupt",
     "evalue": "",
     "output_type": "error",
     "traceback": [
      "\u001b[0;31m---------------------------------------------------------------------------\u001b[0m",
      "\u001b[0;31mKeyboardInterrupt\u001b[0m                         Traceback (most recent call last)",
      "\u001b[0;32m<ipython-input-28-b98fe04f0a4e>\u001b[0m in \u001b[0;36m<module>\u001b[0;34m\u001b[0m\n\u001b[1;32m     12\u001b[0m \u001b[0mlosses_tr_logistic_regression_clean\u001b[0m\u001b[0;34m,\u001b[0m \u001b[0mlosses_te_logistic_regression_clean\u001b[0m\u001b[0;34m,\u001b[0m \u001b[0mgamma\u001b[0m\u001b[0;34m,\u001b[0m \u001b[0mweights\u001b[0m\u001b[0;34m,\u001b[0m \u001b[0mloss\u001b[0m \u001b[0;34m=\u001b[0m\u001b[0;31m \u001b[0m\u001b[0;31m\\\u001b[0m\u001b[0;34m\u001b[0m\u001b[0;34m\u001b[0m\u001b[0m\n\u001b[1;32m     13\u001b[0m     cross_validation_logistic_regression(y_logistic, tX_stdrzed_cleaned,\\\n\u001b[0;32m---> 14\u001b[0;31m                                          initial_w, max_iters, gammas_logistic_clean, k_fold, seed)\n\u001b[0m\u001b[1;32m     15\u001b[0m \u001b[0;34m\u001b[0m\u001b[0m\n\u001b[1;32m     16\u001b[0m \u001b[0mprint\u001b[0m\u001b[0;34m(\u001b[0m\u001b[0mlosses_tr_logistic_regression_clean\u001b[0m\u001b[0;34m)\u001b[0m\u001b[0;34m\u001b[0m\u001b[0;34m\u001b[0m\u001b[0m\n",
      "\u001b[0;32m<ipython-input-10-fd2d3f83e251>\u001b[0m in \u001b[0;36mcross_validation_logistic_regression\u001b[0;34m(y, tx, initial_w, max_iters, gammas, k_fold, seed)\u001b[0m\n\u001b[1;32m     21\u001b[0m \u001b[0;34m\u001b[0m\u001b[0m\n\u001b[1;32m     22\u001b[0m             \u001b[0;31m#Train the set and computes the losses\u001b[0m\u001b[0;34m\u001b[0m\u001b[0;34m\u001b[0m\u001b[0;34m\u001b[0m\u001b[0m\n\u001b[0;32m---> 23\u001b[0;31m             \u001b[0mweights\u001b[0m\u001b[0;34m,\u001b[0m \u001b[0mloss_tr\u001b[0m \u001b[0;34m=\u001b[0m \u001b[0mlogistic_regression\u001b[0m\u001b[0;34m(\u001b[0m\u001b[0mtrain_y\u001b[0m\u001b[0;34m,\u001b[0m \u001b[0mtrain_tx\u001b[0m\u001b[0;34m,\u001b[0m \u001b[0minitial_w\u001b[0m\u001b[0;34m,\u001b[0m \u001b[0mmax_iters\u001b[0m\u001b[0;34m,\u001b[0m \u001b[0mgamma\u001b[0m\u001b[0;34m)\u001b[0m\u001b[0;34m\u001b[0m\u001b[0;34m\u001b[0m\u001b[0m\n\u001b[0m\u001b[1;32m     24\u001b[0m             \u001b[0mloss_te\u001b[0m \u001b[0;34m=\u001b[0m \u001b[0mcalculate_loss_sigmoid\u001b[0m\u001b[0;34m(\u001b[0m\u001b[0mtest_y\u001b[0m\u001b[0;34m,\u001b[0m \u001b[0mtest_tx\u001b[0m\u001b[0;34m,\u001b[0m \u001b[0mweights\u001b[0m\u001b[0;34m)\u001b[0m\u001b[0;34m\u001b[0m\u001b[0;34m\u001b[0m\u001b[0m\n\u001b[1;32m     25\u001b[0m \u001b[0;34m\u001b[0m\u001b[0m\n",
      "\u001b[0;32m~/Documents/Repos/Machine-learning/project1/implementations.py\u001b[0m in \u001b[0;36mlogistic_regression\u001b[0;34m(y, tx, initial_w, max_iters, gamma)\u001b[0m\n\u001b[1;32m    130\u001b[0m \u001b[0;34m\u001b[0m\u001b[0m\n\u001b[1;32m    131\u001b[0m     \u001b[0;32mfor\u001b[0m \u001b[0m_\u001b[0m \u001b[0;32min\u001b[0m \u001b[0mrange\u001b[0m\u001b[0;34m(\u001b[0m\u001b[0mmax_iters\u001b[0m\u001b[0;34m)\u001b[0m\u001b[0;34m:\u001b[0m\u001b[0;34m\u001b[0m\u001b[0;34m\u001b[0m\u001b[0m\n\u001b[0;32m--> 132\u001b[0;31m         \u001b[0mw\u001b[0m\u001b[0;34m,\u001b[0m \u001b[0mloss\u001b[0m \u001b[0;34m=\u001b[0m \u001b[0mlearning_by_gradient_descent\u001b[0m\u001b[0;34m(\u001b[0m\u001b[0my\u001b[0m\u001b[0;34m,\u001b[0m \u001b[0mtx\u001b[0m\u001b[0;34m,\u001b[0m \u001b[0mw\u001b[0m\u001b[0;34m,\u001b[0m \u001b[0mgamma\u001b[0m\u001b[0;34m)\u001b[0m\u001b[0;34m\u001b[0m\u001b[0;34m\u001b[0m\u001b[0m\n\u001b[0m\u001b[1;32m    133\u001b[0m         \u001b[0;31m# converge criterion\u001b[0m\u001b[0;34m\u001b[0m\u001b[0;34m\u001b[0m\u001b[0;34m\u001b[0m\u001b[0m\n\u001b[1;32m    134\u001b[0m         \u001b[0;32mif\u001b[0m \u001b[0mnp\u001b[0m\u001b[0;34m.\u001b[0m\u001b[0mabs\u001b[0m\u001b[0;34m(\u001b[0m\u001b[0mloss\u001b[0m \u001b[0;34m-\u001b[0m \u001b[0mprevious_loss\u001b[0m\u001b[0;34m)\u001b[0m \u001b[0;34m<\u001b[0m \u001b[0mthreshold\u001b[0m\u001b[0;34m:\u001b[0m\u001b[0;34m\u001b[0m\u001b[0;34m\u001b[0m\u001b[0m\n",
      "\u001b[0;32m~/Documents/Repos/Machine-learning/project1/implementations.py\u001b[0m in \u001b[0;36mlearning_by_gradient_descent\u001b[0;34m(y, tx, w, gamma)\u001b[0m\n\u001b[1;32m     76\u001b[0m     \u001b[0mReturn\u001b[0m \u001b[0mthe\u001b[0m \u001b[0mupdated\u001b[0m \u001b[0mw\u001b[0m \u001b[0;32mand\u001b[0m \u001b[0mloss\u001b[0m\u001b[0;34m.\u001b[0m\u001b[0;34m\u001b[0m\u001b[0;34m\u001b[0m\u001b[0m\n\u001b[1;32m     77\u001b[0m     \"\"\"\n\u001b[0;32m---> 78\u001b[0;31m     \u001b[0mloss\u001b[0m \u001b[0;34m=\u001b[0m \u001b[0mcalculate_loss_sigmoid\u001b[0m\u001b[0;34m(\u001b[0m\u001b[0my\u001b[0m\u001b[0;34m,\u001b[0m \u001b[0mtx\u001b[0m\u001b[0;34m,\u001b[0m \u001b[0mw\u001b[0m\u001b[0;34m)\u001b[0m\u001b[0;34m\u001b[0m\u001b[0;34m\u001b[0m\u001b[0m\n\u001b[0m\u001b[1;32m     79\u001b[0m     \u001b[0mgradient\u001b[0m \u001b[0;34m=\u001b[0m \u001b[0mcalculate_gradient_sigmoid\u001b[0m\u001b[0;34m(\u001b[0m\u001b[0my\u001b[0m\u001b[0;34m,\u001b[0m \u001b[0mtx\u001b[0m\u001b[0;34m,\u001b[0m \u001b[0mw\u001b[0m\u001b[0;34m)\u001b[0m\u001b[0;34m\u001b[0m\u001b[0;34m\u001b[0m\u001b[0m\n\u001b[1;32m     80\u001b[0m     \u001b[0mw\u001b[0m \u001b[0;34m-=\u001b[0m \u001b[0mgamma\u001b[0m \u001b[0;34m*\u001b[0m \u001b[0mgradient\u001b[0m\u001b[0;34m\u001b[0m\u001b[0;34m\u001b[0m\u001b[0m\n",
      "\u001b[0;32m~/Documents/Repos/Machine-learning/project1/implementations.py\u001b[0m in \u001b[0;36mcalculate_loss_sigmoid\u001b[0;34m(y, tx, w)\u001b[0m\n\u001b[1;32m     64\u001b[0m     \u001b[0;34m\"\"\"compute the cost by negative log likelihood.\"\"\"\u001b[0m\u001b[0;34m\u001b[0m\u001b[0;34m\u001b[0m\u001b[0m\n\u001b[1;32m     65\u001b[0m     \u001b[0msigm_tx_w\u001b[0m \u001b[0;34m=\u001b[0m \u001b[0msigmoid\u001b[0m\u001b[0;34m(\u001b[0m\u001b[0mtx\u001b[0m \u001b[0;34m@\u001b[0m \u001b[0mw\u001b[0m\u001b[0;34m)\u001b[0m\u001b[0;34m\u001b[0m\u001b[0;34m\u001b[0m\u001b[0m\n\u001b[0;32m---> 66\u001b[0;31m     return - np.sum(y.T @ np.log(sigm_tx_w) \\\n\u001b[0m\u001b[1;32m     67\u001b[0m                     + (1 - y).T @ np.log(1 - sigm_tx_w))\n\u001b[1;32m     68\u001b[0m \u001b[0;34m\u001b[0m\u001b[0m\n",
      "\u001b[0;31mKeyboardInterrupt\u001b[0m: "
     ]
    }
   ],
   "source": [
    "#logistic_regression cross-validation with cleaned data\n",
    "max_iters = 1000\n",
    "k_fold = 5\n",
    "seed = 42\n",
    "\n",
    "tX_stdrzed_cleaned, mean, std = standardize(remove_wrong_columns(tX))\n",
    "y_logistic = map_label_01(y)\n",
    "        \n",
    "initial_w = np.array([0.5 for i in range(tX_stdrzed_cleaned.shape[1])])\n",
    "gammas_logistic_clean = np.array([0.0000001, 0.0000005, 0.000001, 0.000005, 0.00001])\n",
    "\n",
    "losses_tr_logistic_regression_clean, losses_te_logistic_regression_clean, gamma, weights, loss = \\\n",
    "    cross_validation_logistic_regression(y_logistic, tX_stdrzed_cleaned,\\\n",
    "                                         initial_w, max_iters, gammas_logistic_clean, k_fold, seed)\n",
    "\n",
    "print(losses_tr_logistic_regression_clean)\n",
    "print(losses_te_logistic_regression_clean)\n",
    "print(gamma)\n",
    "print(weights)\n",
    "print(loss)\n",
    "\n",
    "tX_test_stdrzd_cleaned = (remove_wrong_columns(tX_test)-mean)/std\n",
    "\n",
    "y_pred = predict_labels(weights, tX_test_stdrzd_cleaned)\n",
    "OUTPUT_PATH = 'data/output_logistic_regression_clean.csv'\n",
    "create_csv_submission(ids_test, y_pred, OUTPUT_PATH)"
   ]
  },
  {
   "cell_type": "markdown",
   "metadata": {},
   "source": [
    "# Graphs"
   ]
  },
  {
   "cell_type": "code",
   "execution_count": 26,
   "metadata": {},
   "outputs": [],
   "source": [
    "def make_plots_gammas(te_losses, gammas, save_name, title):\n",
    "    plt.semilogx(gammas, te_losses, marker=\".\", color='b', label='cross-validation test error')\n",
    "    plt.xlabel(\"gamma\")\n",
    "    plt.ylabel(\"error\")\n",
    "    plt.title(title)\n",
    "    plt.legend(loc=2)\n",
    "    plt.grid(True)\n",
    "    plt.savefig(save_name)"
   ]
  },
  {
   "cell_type": "code",
   "execution_count": null,
   "metadata": {},
   "outputs": [],
   "source": [
    "#Least squares\n",
    "make_plots_gammas(mse_te_least_squares_GD, gammas_lsgd, \\\n",
    "                  \"raw_data_least_squares_GD\", \"Least squares gradient descent raw data\")"
   ]
  },
  {
   "cell_type": "code",
   "execution_count": null,
   "metadata": {},
   "outputs": [],
   "source": [
    "#Least squares without disturbing gamma\n",
    "make_plots_gammas(mse_te_least_squares_GD[:-1], gammas_lsgd[:-1], \\\n",
    "                  \"raw_data_least_squares_GD_useful\", \"Useful gammas for least squares gradient descent raw data\")"
   ]
  },
  {
   "cell_type": "code",
   "execution_count": null,
   "metadata": {},
   "outputs": [],
   "source": [
    "#Logistic regression\n",
    "make_plots_gammas(losses_te_logistic_regression, gammas_logistic, \\\n",
    "                  \"raw_data_logistic_regression\", \"Logistic regression raw data\")"
   ]
  },
  {
   "cell_type": "code",
   "execution_count": 27,
   "metadata": {},
   "outputs": [
    {
     "data": {
      "image/png": "[encoded data removed]",
      "text/plain": [
       "<Figure size 432x288 with 1 Axes>"
      ]
     },
     "metadata": {
      "needs_background": "light"
     },
     "output_type": "display_data"
    }
   ],
   "source": [
    "#Least squares with cleaned data\n",
    "make_plots_gammas(mse_te_least_squares_GD_clean, gammas_lsgd_clean, \\\n",
    "                  \"raw_data_least_squares_GD_clean\", \"Least squares gradient descent cleaned data\")"
   ]
  },
  {
   "cell_type": "code",
   "execution_count": null,
   "metadata": {},
   "outputs": [],
   "source": [
    "#Logistic regression with cleaned data\n",
    "make_plots_gammas(losses_tr_logistic_regression_clean, losses_te_logistic_regression_clean, gammas_logistic_clean, \\\n",
    "                  \"raw_data_logistic_regression_clean\", \"Logistic regression cleaned data\")"
   ]
  }
 ],
 "metadata": {
  "kernelspec": {
   "display_name": "Python 3",
   "language": "python",
   "name": "python3"
  },
  "language_info": {
   "codemirror_mode": {
    "name": "ipython",
    "version": 3
   },
   "file_extension": ".py",
   "mimetype": "text/x-python",
   "name": "python",
   "nbconvert_exporter": "python",
   "pygments_lexer": "ipython3",
   "version": "3.7.4"
  }
 },
 "nbformat": 4,
 "nbformat_minor": 2
}
