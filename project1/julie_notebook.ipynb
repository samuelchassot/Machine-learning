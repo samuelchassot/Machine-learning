{
 "cells": [
  {
   "cell_type": "code",
   "execution_count": 2,
   "metadata": {},
   "outputs": [],
   "source": [
    "%matplotlib inline\n",
    "import numpy as np\n",
    "import matplotlib.pyplot as plt\n",
    "%load_ext autoreload\n",
    "%autoreload 2"
   ]
  },
  {
   "cell_type": "code",
   "execution_count": 3,
   "metadata": {},
   "outputs": [],
   "source": [
    "from proj1_helpers import *\n",
    "DATA_TRAIN_PATH = 'data/train.csv'\n",
    "y, tX, ids = load_csv_data(DATA_TRAIN_PATH)"
   ]
  },
  {
   "cell_type": "code",
   "execution_count": 4,
   "metadata": {},
   "outputs": [],
   "source": [
    "from implementations import *"
   ]
  },
  {
   "cell_type": "code",
   "execution_count": 5,
   "metadata": {},
   "outputs": [],
   "source": [
    "tX_stdrzed, mean, std = standardize(tX)"
   ]
  },
  {
   "cell_type": "code",
   "execution_count": 6,
   "metadata": {},
   "outputs": [],
   "source": [
    "def build_k_indices(y, k_fold, seed):\n",
    "    \"\"\"build k indices for k-fold.\"\"\"\n",
    "    num_row = y.shape[0]\n",
    "    interval = int(num_row / k_fold)\n",
    "    np.random.seed(seed)\n",
    "    indices = np.random.permutation(num_row)\n",
    "    k_indices = [indices[k * interval: (k + 1) * interval]\n",
    "                 for k in range(k_fold)]\n",
    "    return np.array(k_indices)"
   ]
  },
  {
   "cell_type": "code",
   "execution_count": 7,
   "metadata": {},
   "outputs": [],
   "source": [
    "def cross_validation_gammas(function, y, tx, initial_w, max_iters, gammas, k_fold, seed):\n",
    "    \"\"\"Do cross-validation to find the best gamma to use on a given function\"\"\"\n",
    "    # split data in k fold\n",
    "    k_indices = build_k_indices(y, k_fold, seed)\n",
    "    \n",
    "    mse_tr = []\n",
    "    mse_te = []\n",
    "    \n",
    "    for gamma in gammas:\n",
    "        tr_tmp = []\n",
    "        te_tmp = []\n",
    "        for k in range(k_fold):\n",
    "            # divide the data into training set and testing set depending on k\n",
    "            tr_indice = k_indices[~(np.arange(k_indices.shape[0]) == k)].reshape(-1)\n",
    "            test_tx = tx[k_indices[k]]\n",
    "            test_y = y[k_indices[k]]\n",
    "            train_tx = tx[tr_indice]\n",
    "            train_y = y[tr_indice]\n",
    "            \n",
    "            #Train the set and computes the losses\n",
    "            print(\"HERE \" + str(k))\n",
    "            weights, loss_tr = function(train_y, train_tx, initial_w, max_iters, gamma)\n",
    "            loss_te = compute_loss(mse, test_y, test_tx, weights)\n",
    "            tr_tmp.append(loss_tr)\n",
    "            te_tmp.append(loss_te)\n",
    "        mse_tr.append((gamma, np.mean(tr_tmp)))\n",
    "        mse_te.append((gamma, np.mean(te_tmp)))\n",
    "        print(mse_tr)\n",
    "        \n",
    "    return mse_tr, mse_te"
   ]
  },
  {
   "cell_type": "code",
   "execution_count": 8,
   "metadata": {},
   "outputs": [],
   "source": [
    "max_iters = 100\n",
    "k_fold = 5\n",
    "seed = 42"
   ]
  },
  {
   "cell_type": "code",
   "execution_count": 14,
   "metadata": {},
   "outputs": [
    {
     "name": "stdout",
     "output_type": "stream",
     "text": [
      "[(0.001, 45.814939252517206), (0.01, 1.1570884690125212), (0.02, 0.802651741227361), (0.03, 0.7130170152799978), (0.04, 0.6492072148687056), (0.05, 0.6014476285437074), (0.06, 0.5651926606470817), (0.07, 0.5373073137667168), (0.08, 0.515557037124372), (0.09, 274914664.57558066), (0.1, 1.2574604422153355e+25), (0.1, 1.2574604422153355e+25)]\n",
      "[(0.001, 45.48981802585414), (0.01, 1.1447516640538447), (0.02, 0.8004034428530963), (0.03, 0.7108303616686046), (0.04, 0.6470503297717095), (0.05, 0.5994189809913735), (0.06, 0.5633369443500535), (0.07, 0.5356344443945169), (0.08, 0.5140580666639419), (0.09, 321863003.0029902), (0.1, 2.1689801028412247e+25), (0.1, 2.1689801028412247e+25)]\n"
     ]
    }
   ],
   "source": [
    "#least_squares_GD cross-validation\n",
    "initial_w = np.array([1.5 for i in range(tX_stdrzed.shape[1])]) \n",
    "# ATTENTION !!!! 1. return nan pour loss avec least_squares_gd !!!\n",
    "gammas = np.array([0.001, 0.01, 0.02, 0.03, 0.04, 0.05, 0.06, 0.07, 0.08, 0.09, 0.1])\n",
    "mse_tr_least_squares_GD, mse_te_least_squares_GD = \\\n",
    "    cross_validation_gammas(least_squares_GD, y, tX_stdrzed, initial_w, max_iters, gammas, k_fold, seed)\n",
    "\n",
    "print(mse_tr_least_squares_GD)\n",
    "print(mse_te_least_squares_GD)"
   ]
  },
  {
   "cell_type": "code",
   "execution_count": null,
   "metadata": {},
   "outputs": [
    {
     "name": "stdout",
     "output_type": "stream",
     "text": [
      "HERE 0\n"
     ]
    }
   ],
   "source": [
    "#logistic_regression cross-validation\n",
    "initial_w = np.zeros((tX_stdrzed.shape[1], 1))\n",
    "gammas = np.array([0.001, 0.01, 0.1])\n",
    "mse_tr_logistic_regression, mse_te_logistic_regression = \\\n",
    "cross_validation_gammas(logistic_regression, y, tX_stdrzed, initial_w, max_iters, gammas, k_fold, seed)\n",
    "\n",
    "print(mse_tr_logistic_regression)\n",
    "print(mse_te_logistic_regression)"
   ]
  },
  {
   "cell_type": "code",
   "execution_count": null,
   "metadata": {},
   "outputs": [],
   "source": [
    "DATA_TEST_PATH = 'data/test.csv'\n",
    "_, tX_test, ids_test = load_csv_data(DATA_TEST_PATH)"
   ]
  },
  {
   "cell_type": "code",
   "execution_count": null,
   "metadata": {},
   "outputs": [],
   "source": [
    "tX_test_stdrzd = (tX_test-mean)/std #USE THE MEAN AND STD OF TRAINING DATA"
   ]
  },
  {
   "cell_type": "code",
   "execution_count": null,
   "metadata": {},
   "outputs": [],
   "source": [
    "OUTPUT_PATH = 'data/output.csv' \n",
    "y_pred = predict_labels(weights, tX_test_stdrzd)\n",
    "create_csv_submission(ids_test, y_pred, OUTPUT_PATH)"
   ]
  },
  {
   "cell_type": "code",
   "execution_count": null,
   "metadata": {},
   "outputs": [],
   "source": [
    "compute_loss(mse, y_pred, tX_test_stdrzd, weights)"
   ]
  }
 ],
 "metadata": {
  "kernelspec": {
   "display_name": "Python 3",
   "language": "python",
   "name": "python3"
  },
  "language_info": {
   "codemirror_mode": {
    "name": "ipython",
    "version": 3
   },
   "file_extension": ".py",
   "mimetype": "text/x-python",
   "name": "python",
   "nbconvert_exporter": "python",
   "pygments_lexer": "ipython3",
   "version": "3.7.4"
  }
 },
 "nbformat": 4,
 "nbformat_minor": 2
}
