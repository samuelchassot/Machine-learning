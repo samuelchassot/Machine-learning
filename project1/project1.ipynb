{
 "cells": [
  {
   "cell_type": "code",
   "execution_count": 1,
   "metadata": {},
   "outputs": [],
   "source": [
    "# Useful starting lines\n",
    "%matplotlib inline\n",
    "import numpy as np\n",
    "import matplotlib.pyplot as plt\n",
    "%load_ext autoreload\n",
    "%autoreload 2"
   ]
  },
  {
   "cell_type": "markdown",
   "metadata": {},
   "source": [
    "## Load the training data into feature matrix, class labels, and event ids:"
   ]
  },
  {
   "cell_type": "code",
   "execution_count": 2,
   "metadata": {},
   "outputs": [],
   "source": [
    "from proj1_helpers import *\n",
    "DATA_TRAIN_PATH = 'data/train.csv'\n",
    "y, tX, ids = load_csv_data(DATA_TRAIN_PATH)"
   ]
  },
  {
   "cell_type": "markdown",
   "metadata": {},
   "source": [
    "## Do your thing crazy machine learning thing here :) ..."
   ]
  },
  {
   "cell_type": "code",
   "execution_count": 3,
   "metadata": {},
   "outputs": [],
   "source": [
    "from implementations import *\n",
    "\n",
    "# columns with problems : 2 6 7 8 14 25 26 27 28 29 30   (all -2 for tX)"
   ]
  },
  {
   "cell_type": "code",
   "execution_count": 7,
   "metadata": {},
   "outputs": [
    {
     "name": "stdout",
     "output_type": "stream",
     "text": [
      "[[ 51.655  97.827  27.98  ... 258.733   2.    113.497]\n",
      " [ 68.768 103.235  48.146 ... 164.546   1.     46.226]\n",
      " [162.172 125.953  35.635 ... 260.414   1.     44.251]\n",
      " ...\n",
      " [ 60.526  75.839  39.757 ... 198.907   1.     41.992]\n",
      " [ 19.362  68.812  13.504 ... 112.718   0.      0.   ]\n",
      " [ 72.756  70.831   7.479 ...  99.405   0.      0.   ]]\n",
      "[ 0.          0.          0.          0.          0.          0.\n",
      "  0.          0.          0.          0.          0.          0.\n",
      "  0.          0.          0.          0.          0.          0.\n",
      "  0.         -0.00310931 -0.00310931 -0.00310931 -0.00310931 -0.00310931\n",
      " -0.00310931 -0.00310931 -0.00310931 -0.00310931 -0.00310931 -0.00310931\n",
      " -0.00310931 -0.00310931 -0.00310931 -0.00310931 -0.00310931 -0.00310931\n",
      " -0.00310931 -0.00310931]\n"
     ]
    }
   ],
   "source": [
    "tX_cleaned = remove_wrong_columns(tX)\n",
    "print(tX_cleaned)\n",
    "degree = 1\n",
    "tX_expanded = expand_features_polynomial(tX_cleaned, degree)\n",
    "max_iters = 100\n",
    "initial_w = [0 for i in range(tX_expanded.shape[1])]\n",
    "gamma = 0.0001\n",
    "\n",
    "weights, loss = least_squares_SGD(y, tX_expanded, initial_w, max_iters, gamma)\n",
    "print(weights)"
   ]
  },
  {
   "cell_type": "markdown",
   "metadata": {},
   "source": [
    "## Generate predictions and save ouput in csv format for submission:"
   ]
  },
  {
   "cell_type": "code",
   "execution_count": 8,
   "metadata": {},
   "outputs": [],
   "source": [
    "DATA_TEST_PATH = 'data/test.csv'\n",
    "_, tX_test, ids_test = load_csv_data(DATA_TEST_PATH)"
   ]
  },
  {
   "cell_type": "code",
   "execution_count": 9,
   "metadata": {},
   "outputs": [],
   "source": [
    "tX_test_cleaned = remove_wrong_columns(tX_test)\n",
    "tX_test_expanded = expand_features_polynomial(tX_test_cleaned, degree)"
   ]
  },
  {
   "cell_type": "code",
   "execution_count": 10,
   "metadata": {},
   "outputs": [],
   "source": [
    "OUTPUT_PATH = 'data/output.csv' \n",
    "y_pred = predict_labels(weights, tX_test_expanded)\n",
    "create_csv_submission(ids_test, y_pred, OUTPUT_PATH)"
   ]
  },
  {
   "cell_type": "code",
   "execution_count": null,
   "metadata": {},
   "outputs": [],
   "source": []
  }
 ],
 "metadata": {
  "file_extension": ".py",
  "kernelspec": {
   "display_name": "Python 3",
   "language": "python",
   "name": "python3"
  },
  "language_info": {
   "codemirror_mode": {
    "name": "ipython",
    "version": 3
   },
   "file_extension": ".py",
   "mimetype": "text/x-python",
   "name": "python",
   "nbconvert_exporter": "python",
   "pygments_lexer": "ipython3",
   "version": "3.7.3"
  },
  "mimetype": "text/x-python",
  "name": "python",
  "npconvert_exporter": "python",
  "pygments_lexer": "ipython3",
  "version": 3
 },
 "nbformat": 4,
 "nbformat_minor": 2
}
