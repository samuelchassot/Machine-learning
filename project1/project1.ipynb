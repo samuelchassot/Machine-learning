{
 "cells": [
  {
   "cell_type": "code",
   "execution_count": 1,
   "metadata": {},
   "outputs": [],
   "source": [
    "# Useful starting lines\n",
    "%matplotlib inline\n",
    "import numpy as np\n",
    "import matplotlib.pyplot as plt\n",
    "%load_ext autoreload\n",
    "%autoreload 2"
   ]
  },
  {
   "cell_type": "markdown",
   "metadata": {},
   "source": [
    "## Load the training data into feature matrix, class labels, and event ids:"
   ]
  },
  {
   "cell_type": "code",
   "execution_count": 2,
   "metadata": {},
   "outputs": [],
   "source": [
    "from proj1_helpers import *\n",
    "DATA_TRAIN_PATH = 'data/train.csv'\n",
    "y, tX, ids = load_csv_data(DATA_TRAIN_PATH)"
   ]
  },
  {
   "cell_type": "markdown",
   "metadata": {},
   "source": [
    "## Do your thing crazy machine learning thing here :) ..."
   ]
  },
  {
   "cell_type": "code",
   "execution_count": 27,
   "metadata": {},
   "outputs": [
    {
     "name": "stdout",
     "output_type": "stream",
     "text": [
      "No problem\n",
      "No problem\n",
      "DER_mass_MMC\n",
      "No problem\n",
      "No problem\n",
      "No problem\n",
      "DER_deltaeta_jet_jet\n",
      "DER_mass_jet_jet\n",
      "DER_prodeta_jet_jet\n",
      "No problem\n",
      "No problem\n",
      "No problem\n",
      "No problem\n",
      "No problem\n",
      "DER_lep_eta_centrality\n",
      "No problem\n",
      "No problem\n",
      "No problem\n",
      "No problem\n",
      "No problem\n",
      "No problem\n",
      "No problem\n",
      "No problem\n",
      "No problem\n",
      "No problem\n",
      "PRI_jet_leading_pt\n",
      "PRI_jet_leading_eta\n",
      "PRI_jet_leading_phi\n",
      "PRI_jet_subleading_pt\n",
      "PRI_jet_subleading_eta\n",
      "PRI_jet_subleading_phi\n",
      "No problem\n"
     ]
    }
   ],
   "source": [
    "from implementations import *\n",
    "import pandas as pd\n",
    "\n",
    "initial_w = np.random.randint(2, high=4, size=30).T\n",
    "max_iters = 20\n",
    "gamma = 0.7\n",
    "\n",
    "df1 = pd.read_csv(DATA_TRAIN_PATH)\n",
    "df2 = pd.read_csv(DATA_TEST_PATH)\n",
    "for c in df.columns:\n",
    "    if -999.0 in (df1[c].values) or -999.0 in (df1[c].values):\n",
    "        print(c)\n",
    "    else:\n",
    "        print(\"No problem\")\n",
    "    \n",
    "\n",
    "#standardized_tX, mean, std = standardize(tX)\n",
    "#weights, loss = least_squares_SGD(y, tX, initial_w, max_iters, gamma)\n",
    "#print(loss)"
   ]
  },
  {
   "cell_type": "markdown",
   "metadata": {},
   "source": [
    "## Generate predictions and save ouput in csv format for submission:"
   ]
  },
  {
   "cell_type": "code",
   "execution_count": 3,
   "metadata": {},
   "outputs": [],
   "source": [
    "DATA_TEST_PATH = 'data/test.csv'\n",
    "_, tX_test, ids_test = load_csv_data(DATA_TEST_PATH)"
   ]
  },
  {
   "cell_type": "code",
   "execution_count": null,
   "metadata": {},
   "outputs": [],
   "source": [
    "OUTPUT_PATH = 'data/output.csv' \n",
    "y_pred = predict_labels(weights, tX_test)\n",
    "create_csv_submission(ids_test, y_pred, OUTPUT_PATH)"
   ]
  },
  {
   "cell_type": "code",
   "execution_count": null,
   "metadata": {},
   "outputs": [],
   "source": []
  }
 ],
 "metadata": {
  "file_extension": ".py",
  "kernelspec": {
   "display_name": "Python 3",
   "language": "python",
   "name": "python3"
  },
  "language_info": {
   "codemirror_mode": {
    "name": "ipython",
    "version": 3
   },
   "file_extension": ".py",
   "mimetype": "text/x-python",
   "name": "python",
   "nbconvert_exporter": "python",
   "pygments_lexer": "ipython3",
   "version": "3.7.4"
  },
  "mimetype": "text/x-python",
  "name": "python",
  "npconvert_exporter": "python",
  "pygments_lexer": "ipython3",
  "version": 3
 },
 "nbformat": 4,
 "nbformat_minor": 2
}
